{
 "cells": [
  {
   "cell_type": "markdown",
   "metadata": {},
   "source": [
    "# Análisis de la Movilidad en Bogotá"
   ]
  },
  {
   "cell_type": "markdown",
   "metadata": {},
   "source": [
    "¿Cuáles son las rutas más críticas de movilidad y sus características en la ciudad de Bogotá?\n",
    "\n",
    "Se toman los datos de la plataforma:\n",
    "https://datos.movilidadbogota.gov.co"
   ]
  },
  {
   "cell_type": "code",
   "execution_count": 1,
   "metadata": {},
   "outputs": [],
   "source": [
    "import pandas as pd\n",
    "import os"
   ]
  },
  {
   "cell_type": "code",
   "execution_count": 2,
   "metadata": {},
   "outputs": [],
   "source": [
    "os.chdir('../data_raw')"
   ]
  },
  {
   "cell_type": "code",
   "execution_count": 3,
   "metadata": {
    "scrolled": true
   },
   "outputs": [],
   "source": [
    "data_file_list = !ls"
   ]
  },
  {
   "cell_type": "code",
   "execution_count": 4,
   "metadata": {},
   "outputs": [
    {
     "data": {
      "text/plain": [
       "['Velocidades_Bitcarrier_Abril_2019.csv',\n",
       " 'Velocidades_Bitcarrier_Agosto_2019.csv',\n",
       " 'Velocidades_Bitcarrier_Diciembre_2019.csv',\n",
       " 'Velocidades_Bitcarrier_Febrero_2019.csv',\n",
       " 'Velocidades_Bitcarrier_Junio_2019.csv',\n",
       " 'Velocidades_Bitcarrier_Marzo_2019.csv',\n",
       " 'Velocidades_Bitcarrier_Mayo_2019.csv',\n",
       " 'Velocidades_Bitcarrier_Noviembre_2019.csv',\n",
       " 'Velocidades_Bitcarrier_Octubre_2019.csv',\n",
       " 'Velocidades_Bitcarrier_Septiembre_2019.csv']"
      ]
     },
     "execution_count": 4,
     "metadata": {},
     "output_type": "execute_result"
    }
   ],
   "source": [
    "data_file_list"
   ]
  },
  {
   "cell_type": "markdown",
   "metadata": {},
   "source": [
    "Falla en la descarga de los datos de Enero y Julio. "
   ]
  },
  {
   "cell_type": "code",
   "execution_count": 5,
   "metadata": {},
   "outputs": [],
   "source": [
    "'''\n",
    "Recibe como parámetro de entrada una lista de archivos CSV,\n",
    "hace la lectura y concatena los dataframes, siendo esta concatenación el retorno.\n",
    "Los datos en los archivos CSV deben tener la misma estructura.\n",
    "'''\n",
    "def df_builder(data_list):\n",
    "    n_files = len(data_list) - 1\n",
    "    df_full = pd.read_csv(data_list[n_files])\n",
    "    \n",
    "    for i in range(n_files - 2):\n",
    "        df_i = pd.read_csv(data_list[i])\n",
    "        df_full = pd.concat([df_full, df_i])\n",
    "    \n",
    "    return df_full"
   ]
  },
  {
   "cell_type": "code",
   "execution_count": 6,
   "metadata": {},
   "outputs": [],
   "source": [
    "df_mov = df_builder(data_file_list)"
   ]
  },
  {
   "cell_type": "code",
   "execution_count": 7,
   "metadata": {},
   "outputs": [
    {
     "data": {
      "text/plain": [
       "16267959"
      ]
     },
     "execution_count": 7,
     "metadata": {},
     "output_type": "execute_result"
    }
   ],
   "source": [
    "len(df_mov)"
   ]
  },
  {
   "cell_type": "code",
   "execution_count": 8,
   "metadata": {},
   "outputs": [
    {
     "data": {
      "text/plain": [
       "<bound method NDFrame.describe of          OBJECTID      TID                  INICIO                     FIN  \\\n",
       "0          537921  1001007  2019/09/06 07:00:00+00  2019/09/06 07:15:00+00   \n",
       "1          537922  1002040  2019/09/06 07:00:00+00  2019/09/06 07:15:00+00   \n",
       "2          537923  1000051  2019/09/06 07:00:00+00  2019/09/06 07:15:00+00   \n",
       "3          537924  1002038  2019/09/06 07:00:00+00  2019/09/06 07:15:00+00   \n",
       "4          537925  1001009  2019/09/06 07:00:00+00  2019/09/06 07:15:00+00   \n",
       "...           ...      ...                     ...                     ...   \n",
       "2007493   2012318  1002036  2019/05/31 23:45:00+00  2019/06/01 00:00:00+00   \n",
       "2007494   2012319  1001931  2019/05/31 23:45:00+00  2019/06/01 00:00:00+00   \n",
       "2007495   2012320  1002030  2019/05/31 23:45:00+00  2019/06/01 00:00:00+00   \n",
       "2007496   2012321  1001940  2019/05/31 23:45:00+00  2019/06/01 00:00:00+00   \n",
       "2007497   2012322  1002041  2019/05/31 23:45:00+00  2019/06/01 00:00:00+00   \n",
       "\n",
       "          AÑO  HORA  DISTANCE  TYPE  VEL_PROMEDIO CUARTO_HORA  ...  \\\n",
       "0        2019     7      1068     1     29.920095    07:00:00  ...   \n",
       "1        2019     7      1396     1     44.768136    07:00:00  ...   \n",
       "2        2019     7      1458     1     16.267973    07:00:00  ...   \n",
       "3        2019     7       506     1     52.683532    07:00:00  ...   \n",
       "4        2019     7       732     1      9.281605    07:00:00  ...   \n",
       "...       ...   ...       ...   ...           ...         ...  ...   \n",
       "2007493  2019    23      1366     1     52.092345    23:45:00  ...   \n",
       "2007494  2019    23      1399     1     10.503962    23:45:00  ...   \n",
       "2007495  2019    23      1212     1     47.719449    23:45:00  ...   \n",
       "2007496  2019    23       947     1     33.260065    23:45:00  ...   \n",
       "2007497  2019    23      1411     1     56.366584    23:45:00  ...   \n",
       "\n",
       "                  NAME_TO CODIGO COEF_BRT COEF_MIXTO  VEL_MEDIA_BRT  \\\n",
       "0              KR68B;KR60    NaN      NaN        NaN            NaN   \n",
       "1          KR66A;AV.ROJAS    NaN      NaN        NaN            NaN   \n",
       "2               KR15;KR11    NaN      NaN        NaN            NaN   \n",
       "3         GOBERNACION;CAN    NaN      NaN        NaN            NaN   \n",
       "4              KR77A;KR72    NaN      NaN        NaN            NaN   \n",
       "...                   ...    ...      ...        ...            ...   \n",
       "2007493  GOBERNACION;KR40    NaN      NaN        NaN            NaN   \n",
       "2007494         CL45;CL57    NaN      NaN        NaN            NaN   \n",
       "2007495  21.ANGELES;CL136    NaN      NaN        NaN            NaN   \n",
       "2007496         KR86;KR80    NaN      NaN        NaN            NaN   \n",
       "2007497    AV.ROJAS;KR66A    NaN      NaN        NaN            NaN   \n",
       "\n",
       "         VEL_MEDIA_MIXTO  VEL_MEDIA_PONDERADA  VEL_PONDERADA  SHAPELEN  \\\n",
       "0                    NaN                  NaN            NaN       NaN   \n",
       "1                    NaN                  NaN            NaN       NaN   \n",
       "2                    NaN                  NaN            NaN       NaN   \n",
       "3                    NaN                  NaN            NaN       NaN   \n",
       "4                    NaN                  NaN            NaN       NaN   \n",
       "...                  ...                  ...            ...       ...   \n",
       "2007493              NaN                  NaN            NaN       NaN   \n",
       "2007494              NaN                  NaN            NaN       NaN   \n",
       "2007495              NaN                  NaN            NaN       NaN   \n",
       "2007496              NaN                  NaN            NaN       NaN   \n",
       "2007497              NaN                  NaN            NaN       NaN   \n",
       "\n",
       "         Shape__Length  \n",
       "0                  NaN  \n",
       "1                  NaN  \n",
       "2                  NaN  \n",
       "3                  NaN  \n",
       "4                  NaN  \n",
       "...                ...  \n",
       "2007493       0.012333  \n",
       "2007494       0.012646  \n",
       "2007495       0.010940  \n",
       "2007496       0.008551  \n",
       "2007497       0.012743  \n",
       "\n",
       "[16267959 rows x 23 columns]>"
      ]
     },
     "execution_count": 8,
     "metadata": {},
     "output_type": "execute_result"
    }
   ],
   "source": [
    "df_mov.describe"
   ]
  },
  {
   "cell_type": "code",
   "execution_count": 9,
   "metadata": {},
   "outputs": [
    {
     "data": {
      "text/plain": [
       "OBJECTID                 int64\n",
       "TID                      int64\n",
       "INICIO                  object\n",
       "FIN                     object\n",
       "AÑO                      int64\n",
       "HORA                     int64\n",
       "DISTANCE                 int64\n",
       "TYPE                     int64\n",
       "VEL_PROMEDIO           float64\n",
       "CUARTO_HORA             object\n",
       "DIA_SEMANA              object\n",
       "MES                     object\n",
       "NAME_FROM               object\n",
       "NAME_TO                 object\n",
       "CODIGO                 float64\n",
       "COEF_BRT               float64\n",
       "COEF_MIXTO             float64\n",
       "VEL_MEDIA_BRT          float64\n",
       "VEL_MEDIA_MIXTO        float64\n",
       "VEL_MEDIA_PONDERADA    float64\n",
       "VEL_PONDERADA          float64\n",
       "SHAPELEN               float64\n",
       "Shape__Length          float64\n",
       "dtype: object"
      ]
     },
     "execution_count": 9,
     "metadata": {},
     "output_type": "execute_result"
    }
   ],
   "source": [
    "df_mov.dtypes"
   ]
  },
  {
   "cell_type": "code",
   "execution_count": 10,
   "metadata": {},
   "outputs": [
    {
     "data": {
      "text/plain": [
       "2019    15194978\n",
       "2020     1072981\n",
       "Name: AÑO, dtype: int64"
      ]
     },
     "execution_count": 10,
     "metadata": {},
     "output_type": "execute_result"
    }
   ],
   "source": [
    "df_mov['AÑO'].value_counts()"
   ]
  },
  {
   "cell_type": "markdown",
   "metadata": {},
   "source": [
    "Dentro de los datasets obtenidos se encuentran datos de otros años.\n",
    "Vamos a eliminar los registros del año 2020."
   ]
  },
  {
   "cell_type": "code",
   "execution_count": 11,
   "metadata": {},
   "outputs": [
    {
     "data": {
      "text/plain": [
       "(16267959, 23)"
      ]
     },
     "execution_count": 11,
     "metadata": {},
     "output_type": "execute_result"
    }
   ],
   "source": [
    "df_mov.shape"
   ]
  },
  {
   "cell_type": "code",
   "execution_count": 12,
   "metadata": {},
   "outputs": [],
   "source": [
    "## Borrar los renglones cuando el AÑO es igual que 2020\n",
    "df_mov = df_mov.loc[df_mov['AÑO'] == 2019]"
   ]
  },
  {
   "cell_type": "code",
   "execution_count": 13,
   "metadata": {},
   "outputs": [
    {
     "data": {
      "text/plain": [
       "2019    15194978\n",
       "Name: AÑO, dtype: int64"
      ]
     },
     "execution_count": 13,
     "metadata": {},
     "output_type": "execute_result"
    }
   ],
   "source": [
    "df_mov['AÑO'].value_counts()"
   ]
  },
  {
   "cell_type": "code",
   "execution_count": 14,
   "metadata": {},
   "outputs": [
    {
     "data": {
      "text/plain": [
       "(15194978, 23)"
      ]
     },
     "execution_count": 14,
     "metadata": {},
     "output_type": "execute_result"
    }
   ],
   "source": [
    "df_mov.shape"
   ]
  },
  {
   "cell_type": "code",
   "execution_count": 18,
   "metadata": {},
   "outputs": [],
   "source": [
    "df_mov.to_csv('../notebook/data/data_Mov_Bogota_2019.csv', index=None)"
   ]
  },
  {
   "cell_type": "code",
   "execution_count": null,
   "metadata": {},
   "outputs": [],
   "source": []
  }
 ],
 "metadata": {
  "kernelspec": {
   "display_name": "Python 3 (ipykernel)",
   "language": "python",
   "name": "python3"
  },
  "language_info": {
   "codemirror_mode": {
    "name": "ipython",
    "version": 3
   },
   "file_extension": ".py",
   "mimetype": "text/x-python",
   "name": "python",
   "nbconvert_exporter": "python",
   "pygments_lexer": "ipython3",
   "version": "3.7.6"
  }
 },
 "nbformat": 4,
 "nbformat_minor": 4
}
