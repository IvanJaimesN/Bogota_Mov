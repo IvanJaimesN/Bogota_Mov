{
 "cells": [
  {
   "cell_type": "markdown",
   "metadata": {},
   "source": [
    "# Análisis de la Movilidad en Bogotá"
   ]
  },
  {
   "cell_type": "markdown",
   "metadata": {},
   "source": [
    "¿Cuáles son las rutas más críticas de movilidad y sus características en la ciudad de Bogotá?\n",
    "\n",
    "Se toman los datos de la plataforma:\n",
    "https://datos.movilidadbogota.gov.co"
   ]
  },
  {
   "cell_type": "code",
   "execution_count": 1,
   "metadata": {},
   "outputs": [],
   "source": [
    "import pandas as pd\n",
    "import os"
   ]
  },
  {
   "cell_type": "code",
   "execution_count": 2,
   "metadata": {},
   "outputs": [],
   "source": [
    "os.chdir('../data_raw')"
   ]
  },
  {
   "cell_type": "code",
   "execution_count": 3,
   "metadata": {
    "scrolled": true
   },
   "outputs": [],
   "source": [
    "data_file_list = !ls"
   ]
  },
  {
   "cell_type": "code",
   "execution_count": 4,
   "metadata": {
    "scrolled": true
   },
   "outputs": [
    {
     "data": {
      "text/plain": [
       "['Velocidades_Bitcarrier_Diciembre_2019.csv',\n",
       " 'Velocidades_Bitcarrier_Junio_2019.csv',\n",
       " 'Velocidades_Bitcarrier_Marzo_2019.csv',\n",
       " 'Velocidades_Bitcarrier_Septiembre_2019.csv']"
      ]
     },
     "execution_count": 4,
     "metadata": {},
     "output_type": "execute_result"
    }
   ],
   "source": [
    "data_file_list"
   ]
  },
  {
   "cell_type": "code",
   "execution_count": 5,
   "metadata": {},
   "outputs": [
    {
     "data": {
      "text/plain": [
       "'Velocidades_Bitcarrier_Septiembre_2019.csv'"
      ]
     },
     "execution_count": 5,
     "metadata": {},
     "output_type": "execute_result"
    }
   ],
   "source": [
    "data_file_list[len(data_file_list)-1]"
   ]
  },
  {
   "cell_type": "markdown",
   "metadata": {},
   "source": [
    "La adquisición de datos será de 4 meses del año 2019 con el propósito de optimizar espacio de almacenamiento y cargas de procesamiento."
   ]
  },
  {
   "cell_type": "code",
   "execution_count": 6,
   "metadata": {},
   "outputs": [],
   "source": [
    "''' Función df_builder\n",
    "Recibe como parámetro de entrada una lista de archivos CSV,\n",
    "hace la lectura y concatena los dataframes, siendo esta concatenación el retorno.\n",
    "Los datos en los archivos CSV deben tener la misma estructura.\n",
    "'''\n",
    "def df_builder(data_list):\n",
    "    n_files = len(data_list) - 1\n",
    "    df_full = pd.read_csv(data_list[n_files])\n",
    "    \n",
    "    for i in range(n_files):\n",
    "        df_i = pd.read_csv(data_list[i])\n",
    "        df_full = pd.concat([df_full, df_i])\n",
    "    \n",
    "    return df_full"
   ]
  },
  {
   "cell_type": "code",
   "execution_count": 7,
   "metadata": {},
   "outputs": [],
   "source": [
    "df_mov = df_builder(data_file_list)"
   ]
  },
  {
   "cell_type": "code",
   "execution_count": 8,
   "metadata": {},
   "outputs": [
    {
     "data": {
      "text/plain": [
       "(8544710, 22)"
      ]
     },
     "execution_count": 8,
     "metadata": {},
     "output_type": "execute_result"
    }
   ],
   "source": [
    "df_mov.shape"
   ]
  },
  {
   "cell_type": "code",
   "execution_count": 9,
   "metadata": {},
   "outputs": [
    {
     "data": {
      "text/plain": [
       "<bound method NDFrame.describe of          OBJECTID      TID                  INICIO                     FIN  \\\n",
       "0          537921  1001007  2019/09/06 07:00:00+00  2019/09/06 07:15:00+00   \n",
       "1          537922  1002040  2019/09/06 07:00:00+00  2019/09/06 07:15:00+00   \n",
       "2          537923  1000051  2019/09/06 07:00:00+00  2019/09/06 07:15:00+00   \n",
       "3          537924  1002038  2019/09/06 07:00:00+00  2019/09/06 07:15:00+00   \n",
       "4          537925  1001009  2019/09/06 07:00:00+00  2019/09/06 07:15:00+00   \n",
       "...           ...      ...                     ...                     ...   \n",
       "2165215   2166123      116  2019/03/31 23:45:00+00  2019/04/01 00:00:00+00   \n",
       "2165216   2166124  1000076  2019/03/31 23:45:00+00  2019/04/01 00:00:00+00   \n",
       "2165217   2166125      115  2019/03/31 23:45:00+00  2019/04/01 00:00:00+00   \n",
       "2165218   2166126  1000078  2019/03/31 23:45:00+00  2019/04/01 00:00:00+00   \n",
       "2165219   2166127  1000077  2019/03/31 23:45:00+00  2019/04/01 00:00:00+00   \n",
       "\n",
       "          AÑO  HORA  DISTANCE  TYPE  VEL_PROMEDIO CUARTO_HORA  ...  NAME_FROM  \\\n",
       "0        2019     7      1068     1     29.920095    07:00:00  ...       CL24   \n",
       "1        2019     7      1396     1     44.768136    07:00:00  ...       CL26   \n",
       "2        2019     7      1458     1     16.267973    07:00:00  ...      CL116   \n",
       "3        2019     7       506     1     52.683532    07:00:00  ...       CL26   \n",
       "4        2019     7       732     1      9.281605    07:00:00  ...       CL63   \n",
       "...       ...   ...       ...   ...           ...         ...  ...        ...   \n",
       "2165215  2019    23      3015     0     36.163350    23:45:00  ...  TV42,KR50   \n",
       "2165216  2019    23       432     1     27.221366    23:45:00  ...      CL100   \n",
       "2165217  2019    23       481     0     32.066666    23:45:00  ...  KR60;CL68   \n",
       "2165218  2019    23       976     1     42.940288    23:45:00  ...      CL100   \n",
       "2165219  2019    23       971     1     53.269987    23:45:00  ...      CL100   \n",
       "\n",
       "                 NAME_TO CODIGO COEF_BRT  COEF_MIXTO  VEL_MEDIA_BRT  \\\n",
       "0             KR68B;KR60    NaN      NaN         NaN            NaN   \n",
       "1         KR66A;AV.ROJAS    NaN      NaN         NaN            NaN   \n",
       "2              KR15;KR11    NaN      NaN         NaN            NaN   \n",
       "3        GOBERNACION;CAN    NaN      NaN         NaN            NaN   \n",
       "4             KR77A;KR72    NaN      NaN         NaN            NaN   \n",
       "...                  ...    ...      ...         ...            ...   \n",
       "2165215      CL6;CL33SUR    NaN      NaN         NaN            NaN   \n",
       "2165216        KR19;KR15    NaN      NaN         NaN            NaN   \n",
       "2165217       CL66C;KR58    NaN      NaN         NaN            NaN   \n",
       "2165218        KR19;KR49    NaN      NaN         NaN            NaN   \n",
       "2165219        KR49;KR19    NaN      NaN         NaN            NaN   \n",
       "\n",
       "         VEL_MEDIA_MIXTO  VEL_MEDIA_PONDERADA  VEL_PONDERADA  SHAPELEN  \n",
       "0                    NaN                  NaN            NaN       NaN  \n",
       "1                    NaN                  NaN            NaN       NaN  \n",
       "2                    NaN                  NaN            NaN       NaN  \n",
       "3                    NaN                  NaN            NaN       NaN  \n",
       "4                    NaN                  NaN            NaN       NaN  \n",
       "...                  ...                  ...            ...       ...  \n",
       "2165215              NaN                  NaN            NaN       NaN  \n",
       "2165216              NaN                  NaN            NaN       NaN  \n",
       "2165217              NaN                  NaN            NaN       NaN  \n",
       "2165218              NaN                  NaN            NaN       NaN  \n",
       "2165219              NaN                  NaN            NaN       NaN  \n",
       "\n",
       "[8544710 rows x 22 columns]>"
      ]
     },
     "execution_count": 9,
     "metadata": {},
     "output_type": "execute_result"
    }
   ],
   "source": [
    "df_mov.describe"
   ]
  },
  {
   "cell_type": "code",
   "execution_count": 10,
   "metadata": {},
   "outputs": [
    {
     "data": {
      "text/plain": [
       "OBJECTID                 int64\n",
       "TID                      int64\n",
       "INICIO                  object\n",
       "FIN                     object\n",
       "AÑO                      int64\n",
       "HORA                     int64\n",
       "DISTANCE                 int64\n",
       "TYPE                     int64\n",
       "VEL_PROMEDIO           float64\n",
       "CUARTO_HORA             object\n",
       "DIA_SEMANA              object\n",
       "MES                     object\n",
       "NAME_FROM               object\n",
       "NAME_TO                 object\n",
       "CODIGO                 float64\n",
       "COEF_BRT               float64\n",
       "COEF_MIXTO             float64\n",
       "VEL_MEDIA_BRT          float64\n",
       "VEL_MEDIA_MIXTO        float64\n",
       "VEL_MEDIA_PONDERADA    float64\n",
       "VEL_PONDERADA          float64\n",
       "SHAPELEN               float64\n",
       "dtype: object"
      ]
     },
     "execution_count": 10,
     "metadata": {},
     "output_type": "execute_result"
    }
   ],
   "source": [
    "df_mov.dtypes"
   ]
  },
  {
   "cell_type": "code",
   "execution_count": 11,
   "metadata": {
    "scrolled": true
   },
   "outputs": [
    {
     "data": {
      "text/plain": [
       "2019    7471729\n",
       "2020    1072981\n",
       "Name: AÑO, dtype: int64"
      ]
     },
     "execution_count": 11,
     "metadata": {},
     "output_type": "execute_result"
    }
   ],
   "source": [
    "## Limpieza de datos\n",
    "# Verificación que todos los registros correspondan con el año de estudio: 2019\n",
    "df_mov['AÑO'].value_counts()"
   ]
  },
  {
   "cell_type": "markdown",
   "metadata": {},
   "source": [
    "Dentro de los datasets obtenidos se encuentran datos de otros años.\n",
    "Vamos a eliminar los registros del año 2020."
   ]
  },
  {
   "cell_type": "code",
   "execution_count": 12,
   "metadata": {},
   "outputs": [
    {
     "data": {
      "text/plain": [
       "(8544710, 22)"
      ]
     },
     "execution_count": 12,
     "metadata": {},
     "output_type": "execute_result"
    }
   ],
   "source": [
    "df_mov.shape # Tamaño original"
   ]
  },
  {
   "cell_type": "code",
   "execution_count": 13,
   "metadata": {},
   "outputs": [],
   "source": [
    "## Borrar los renglones cuando el AÑO es igual que 2020\n",
    "df_mov = df_mov.loc[df_mov['AÑO'] == 2019]"
   ]
  },
  {
   "cell_type": "code",
   "execution_count": 14,
   "metadata": {},
   "outputs": [
    {
     "data": {
      "text/plain": [
       "2019    7471729\n",
       "Name: AÑO, dtype: int64"
      ]
     },
     "execution_count": 14,
     "metadata": {},
     "output_type": "execute_result"
    }
   ],
   "source": [
    "df_mov['AÑO'].value_counts() # Verificación "
   ]
  },
  {
   "cell_type": "code",
   "execution_count": 15,
   "metadata": {},
   "outputs": [
    {
     "data": {
      "text/plain": [
       "(7471729, 22)"
      ]
     },
     "execution_count": 15,
     "metadata": {},
     "output_type": "execute_result"
    }
   ],
   "source": [
    "df_mov.shape # Tamaño final del dataframe"
   ]
  },
  {
   "cell_type": "markdown",
   "metadata": {},
   "source": [
    "### Columnas sin datos"
   ]
  },
  {
   "cell_type": "markdown",
   "metadata": {},
   "source": [
    "Vamos a verificar las columnas que no tienen datos (Nan), posterior las eliminamos para tener un dataset más limpio."
   ]
  },
  {
   "cell_type": "code",
   "execution_count": 17,
   "metadata": {},
   "outputs": [
    {
     "data": {
      "text/plain": [
       "Series([], Name: CODIGO, dtype: int64)"
      ]
     },
     "execution_count": 17,
     "metadata": {},
     "output_type": "execute_result"
    }
   ],
   "source": [
    "df_mov['CODIGO'].value_counts()"
   ]
  },
  {
   "cell_type": "code",
   "execution_count": 18,
   "metadata": {},
   "outputs": [
    {
     "data": {
      "text/plain": [
       "Series([], Name: COEF_BRT, dtype: int64)"
      ]
     },
     "execution_count": 18,
     "metadata": {},
     "output_type": "execute_result"
    }
   ],
   "source": [
    "df_mov['COEF_BRT'].value_counts()"
   ]
  },
  {
   "cell_type": "code",
   "execution_count": 19,
   "metadata": {},
   "outputs": [
    {
     "data": {
      "text/plain": [
       "Series([], Name: COEF_MIXTO, dtype: int64)"
      ]
     },
     "execution_count": 19,
     "metadata": {},
     "output_type": "execute_result"
    }
   ],
   "source": [
    "df_mov['COEF_MIXTO'].value_counts()"
   ]
  },
  {
   "cell_type": "code",
   "execution_count": 20,
   "metadata": {},
   "outputs": [
    {
     "data": {
      "text/plain": [
       "Series([], Name: VEL_MEDIA_BRT, dtype: int64)"
      ]
     },
     "execution_count": 20,
     "metadata": {},
     "output_type": "execute_result"
    }
   ],
   "source": [
    "df_mov['VEL_MEDIA_BRT'].value_counts()"
   ]
  },
  {
   "cell_type": "code",
   "execution_count": 21,
   "metadata": {},
   "outputs": [
    {
     "data": {
      "text/plain": [
       "Series([], Name: VEL_MEDIA_MIXTO, dtype: int64)"
      ]
     },
     "execution_count": 21,
     "metadata": {},
     "output_type": "execute_result"
    }
   ],
   "source": [
    "df_mov['VEL_MEDIA_MIXTO'].value_counts()"
   ]
  },
  {
   "cell_type": "code",
   "execution_count": 22,
   "metadata": {},
   "outputs": [
    {
     "data": {
      "text/plain": [
       "Series([], Name: VEL_MEDIA_PONDERADA, dtype: int64)"
      ]
     },
     "execution_count": 22,
     "metadata": {},
     "output_type": "execute_result"
    }
   ],
   "source": [
    "df_mov['VEL_MEDIA_PONDERADA'].value_counts()"
   ]
  },
  {
   "cell_type": "code",
   "execution_count": 23,
   "metadata": {},
   "outputs": [
    {
     "data": {
      "text/plain": [
       "Series([], Name: VEL_PONDERADA, dtype: int64)"
      ]
     },
     "execution_count": 23,
     "metadata": {},
     "output_type": "execute_result"
    }
   ],
   "source": [
    "df_mov['VEL_PONDERADA'].value_counts()"
   ]
  },
  {
   "cell_type": "code",
   "execution_count": 24,
   "metadata": {},
   "outputs": [],
   "source": [
    "## Borrar las columnas\n",
    "df_mov = df_mov.drop(labels=['CODIGO', 'COEF_BRT', 'COEF_MIXTO', 'VEL_MEDIA_BRT',\n",
    "                            'VEL_MEDIA_MIXTO', 'VEL_MEDIA_PONDERADA', 'VEL_PONDERADA'], axis=1)"
   ]
  },
  {
   "cell_type": "code",
   "execution_count": 25,
   "metadata": {},
   "outputs": [
    {
     "data": {
      "text/plain": [
       "<bound method NDFrame.describe of          OBJECTID      TID                  INICIO                     FIN  \\\n",
       "0          537921  1001007  2019/09/06 07:00:00+00  2019/09/06 07:15:00+00   \n",
       "1          537922  1002040  2019/09/06 07:00:00+00  2019/09/06 07:15:00+00   \n",
       "2          537923  1000051  2019/09/06 07:00:00+00  2019/09/06 07:15:00+00   \n",
       "3          537924  1002038  2019/09/06 07:00:00+00  2019/09/06 07:15:00+00   \n",
       "4          537925  1001009  2019/09/06 07:00:00+00  2019/09/06 07:15:00+00   \n",
       "...           ...      ...                     ...                     ...   \n",
       "2165215   2166123      116  2019/03/31 23:45:00+00  2019/04/01 00:00:00+00   \n",
       "2165216   2166124  1000076  2019/03/31 23:45:00+00  2019/04/01 00:00:00+00   \n",
       "2165217   2166125      115  2019/03/31 23:45:00+00  2019/04/01 00:00:00+00   \n",
       "2165218   2166126  1000078  2019/03/31 23:45:00+00  2019/04/01 00:00:00+00   \n",
       "2165219   2166127  1000077  2019/03/31 23:45:00+00  2019/04/01 00:00:00+00   \n",
       "\n",
       "          AÑO  HORA  DISTANCE  TYPE  VEL_PROMEDIO CUARTO_HORA DIA_SEMANA  \\\n",
       "0        2019     7      1068     1     29.920095    07:00:00    Viernes   \n",
       "1        2019     7      1396     1     44.768136    07:00:00    Viernes   \n",
       "2        2019     7      1458     1     16.267973    07:00:00    Viernes   \n",
       "3        2019     7       506     1     52.683532    07:00:00    Viernes   \n",
       "4        2019     7       732     1      9.281605    07:00:00    Viernes   \n",
       "...       ...   ...       ...   ...           ...         ...        ...   \n",
       "2165215  2019    23      3015     0     36.163350    23:45:00    Domingo   \n",
       "2165216  2019    23       432     1     27.221366    23:45:00    Domingo   \n",
       "2165217  2019    23       481     0     32.066666    23:45:00    Domingo   \n",
       "2165218  2019    23       976     1     42.940288    23:45:00    Domingo   \n",
       "2165219  2019    23       971     1     53.269987    23:45:00    Domingo   \n",
       "\n",
       "               MES  NAME_FROM          NAME_TO  SHAPELEN  \n",
       "0        September       CL24       KR68B;KR60       NaN  \n",
       "1        September       CL26   KR66A;AV.ROJAS       NaN  \n",
       "2        September      CL116        KR15;KR11       NaN  \n",
       "3        September       CL26  GOBERNACION;CAN       NaN  \n",
       "4        September       CL63       KR77A;KR72       NaN  \n",
       "...            ...        ...              ...       ...  \n",
       "2165215  March      TV42,KR50      CL6;CL33SUR       NaN  \n",
       "2165216  March          CL100        KR19;KR15       NaN  \n",
       "2165217  March      KR60;CL68       CL66C;KR58       NaN  \n",
       "2165218  March          CL100        KR19;KR49       NaN  \n",
       "2165219  March          CL100        KR49;KR19       NaN  \n",
       "\n",
       "[7471729 rows x 15 columns]>"
      ]
     },
     "execution_count": 25,
     "metadata": {},
     "output_type": "execute_result"
    }
   ],
   "source": [
    "df_mov.describe"
   ]
  },
  {
   "cell_type": "code",
   "execution_count": 26,
   "metadata": {},
   "outputs": [
    {
     "data": {
      "text/plain": [
       "Index(['OBJECTID', 'TID', 'INICIO', 'FIN', 'AÑO', 'HORA', 'DISTANCE', 'TYPE',\n",
       "       'VEL_PROMEDIO', 'CUARTO_HORA', 'DIA_SEMANA', 'MES', 'NAME_FROM',\n",
       "       'NAME_TO', 'SHAPELEN'],\n",
       "      dtype='object')"
      ]
     },
     "execution_count": 26,
     "metadata": {},
     "output_type": "execute_result"
    }
   ],
   "source": [
    "df_mov.columns"
   ]
  },
  {
   "cell_type": "code",
   "execution_count": 27,
   "metadata": {},
   "outputs": [],
   "source": [
    "df_mov.to_csv('../notebook/data/data_Mov_Bogota_2019.csv', index=None)"
   ]
  },
  {
   "cell_type": "markdown",
   "metadata": {},
   "source": [
    "## Análisis Unidimensional de las Variables"
   ]
  },
  {
   "cell_type": "code",
   "execution_count": 28,
   "metadata": {},
   "outputs": [
    {
     "data": {
      "text/plain": [
       "<matplotlib.axes._subplots.AxesSubplot at 0x7f6c9e4720d0>"
      ]
     },
     "execution_count": 28,
     "metadata": {},
     "output_type": "execute_result"
    },
    {
     "data": {
      "image/png": "[encoded data removed]",
      "text/plain": [
       "<Figure size 432x288 with 1 Axes>"
      ]
     },
     "metadata": {
      "needs_background": "light"
     },
     "output_type": "display_data"
    }
   ],
   "source": [
    "## Conteo de la ocurrencia de una variable y un valor\n",
    "\n",
    "# Conteo de la movilidad en cada mes\n",
    "df_mov_sorted = df_mov.sort_values('MES')\n",
    "df_mov_sorted['MES'].hist(bins=15, xrot=45, grid=True)\n",
    "##plt.xticks(rotation=45)"
   ]
  },
  {
   "cell_type": "code",
   "execution_count": 29,
   "metadata": {
    "scrolled": true
   },
   "outputs": [
    {
     "data": {
      "text/plain": [
       "Domingo      0.159293\n",
       "Sabado       0.150467\n",
       "Lunes        0.149095\n",
       "Viernes      0.141789\n",
       "Martes       0.141059\n",
       "Jueves       0.130548\n",
       "Miercoles    0.127749\n",
       "Name: DIA_SEMANA, dtype: float64"
      ]
     },
     "execution_count": 29,
     "metadata": {},
     "output_type": "execute_result"
    }
   ],
   "source": [
    "df_mov['DIA_SEMANA'].value_counts(normalize=True)"
   ]
  },
  {
   "cell_type": "code",
   "execution_count": 30,
   "metadata": {
    "scrolled": true
   },
   "outputs": [
    {
     "data": {
      "text/plain": [
       "KR7           417858\n",
       "NQS           358812\n",
       "KR72          299708\n",
       "AV.CARACAS    298871\n",
       "AV.P.MAYO     290467\n",
       "               ...  \n",
       "K15             7972\n",
       "CL153           5851\n",
       "KR68SUR         5842\n",
       "KR19C           5783\n",
       "KR27;TV28       5286\n",
       "Name: NAME_FROM, Length: 105, dtype: int64"
      ]
     },
     "execution_count": 30,
     "metadata": {},
     "output_type": "execute_result"
    }
   ],
   "source": [
    "df_mov['NAME_FROM'].value_counts()"
   ]
  },
  {
   "cell_type": "code",
   "execution_count": 31,
   "metadata": {
    "scrolled": true
   },
   "outputs": [
    {
     "data": {
      "text/plain": [
       "AV.CARACAS;KR7               67004\n",
       "KR7;KR11                     59224\n",
       "KR11;KR7                     51231\n",
       "KR15;KR11                    50929\n",
       "KR7;AV.CARACAS               50090\n",
       "                             ...  \n",
       "AV.PRIMERO_MAYO;DIAG48SUR     2118\n",
       "CL77;CL85                     1756\n",
       "CL57BSUR;CL71ASUR             1724\n",
       "CL71ASUR;TV79D                1723\n",
       "TV79D;KR91                      61\n",
       "Name: NAME_TO, Length: 696, dtype: int64"
      ]
     },
     "execution_count": 31,
     "metadata": {},
     "output_type": "execute_result"
    }
   ],
   "source": [
    "df_mov['NAME_TO'].value_counts()"
   ]
  },
  {
   "cell_type": "code",
   "execution_count": 32,
   "metadata": {
    "scrolled": true
   },
   "outputs": [
    {
     "data": {
      "text/html": [
       "<div>\n",
       "<style scoped>\n",
       "    .dataframe tbody tr th:only-of-type {\n",
       "        vertical-align: middle;\n",
       "    }\n",
       "\n",
       "    .dataframe tbody tr th {\n",
       "        vertical-align: top;\n",
       "    }\n",
       "\n",
       "    .dataframe thead th {\n",
       "        text-align: right;\n",
       "    }\n",
       "</style>\n",
       "<table border=\"1\" class=\"dataframe\">\n",
       "  <thead>\n",
       "    <tr style=\"text-align: right;\">\n",
       "      <th></th>\n",
       "      <th>OBJECTID</th>\n",
       "      <th>TID</th>\n",
       "      <th>INICIO</th>\n",
       "      <th>FIN</th>\n",
       "      <th>AÑO</th>\n",
       "      <th>HORA</th>\n",
       "      <th>DISTANCE</th>\n",
       "      <th>TYPE</th>\n",
       "      <th>VEL_PROMEDIO</th>\n",
       "      <th>CUARTO_HORA</th>\n",
       "      <th>DIA_SEMANA</th>\n",
       "      <th>MES</th>\n",
       "      <th>NAME_FROM</th>\n",
       "      <th>NAME_TO</th>\n",
       "      <th>SHAPELEN</th>\n",
       "    </tr>\n",
       "  </thead>\n",
       "  <tbody>\n",
       "    <tr>\n",
       "      <th>0</th>\n",
       "      <td>537921</td>\n",
       "      <td>1001007</td>\n",
       "      <td>2019/09/06 07:00:00+00</td>\n",
       "      <td>2019/09/06 07:15:00+00</td>\n",
       "      <td>2019</td>\n",
       "      <td>7</td>\n",
       "      <td>1068</td>\n",
       "      <td>1</td>\n",
       "      <td>29.920095</td>\n",
       "      <td>07:00:00</td>\n",
       "      <td>Viernes</td>\n",
       "      <td>September</td>\n",
       "      <td>CL24</td>\n",
       "      <td>KR68B;KR60</td>\n",
       "      <td>NaN</td>\n",
       "    </tr>\n",
       "    <tr>\n",
       "      <th>1</th>\n",
       "      <td>537922</td>\n",
       "      <td>1002040</td>\n",
       "      <td>2019/09/06 07:00:00+00</td>\n",
       "      <td>2019/09/06 07:15:00+00</td>\n",
       "      <td>2019</td>\n",
       "      <td>7</td>\n",
       "      <td>1396</td>\n",
       "      <td>1</td>\n",
       "      <td>44.768136</td>\n",
       "      <td>07:00:00</td>\n",
       "      <td>Viernes</td>\n",
       "      <td>September</td>\n",
       "      <td>CL26</td>\n",
       "      <td>KR66A;AV.ROJAS</td>\n",
       "      <td>NaN</td>\n",
       "    </tr>\n",
       "    <tr>\n",
       "      <th>2</th>\n",
       "      <td>537923</td>\n",
       "      <td>1000051</td>\n",
       "      <td>2019/09/06 07:00:00+00</td>\n",
       "      <td>2019/09/06 07:15:00+00</td>\n",
       "      <td>2019</td>\n",
       "      <td>7</td>\n",
       "      <td>1458</td>\n",
       "      <td>1</td>\n",
       "      <td>16.267973</td>\n",
       "      <td>07:00:00</td>\n",
       "      <td>Viernes</td>\n",
       "      <td>September</td>\n",
       "      <td>CL116</td>\n",
       "      <td>KR15;KR11</td>\n",
       "      <td>NaN</td>\n",
       "    </tr>\n",
       "    <tr>\n",
       "      <th>3</th>\n",
       "      <td>537924</td>\n",
       "      <td>1002038</td>\n",
       "      <td>2019/09/06 07:00:00+00</td>\n",
       "      <td>2019/09/06 07:15:00+00</td>\n",
       "      <td>2019</td>\n",
       "      <td>7</td>\n",
       "      <td>506</td>\n",
       "      <td>1</td>\n",
       "      <td>52.683532</td>\n",
       "      <td>07:00:00</td>\n",
       "      <td>Viernes</td>\n",
       "      <td>September</td>\n",
       "      <td>CL26</td>\n",
       "      <td>GOBERNACION;CAN</td>\n",
       "      <td>NaN</td>\n",
       "    </tr>\n",
       "    <tr>\n",
       "      <th>4</th>\n",
       "      <td>537925</td>\n",
       "      <td>1001009</td>\n",
       "      <td>2019/09/06 07:00:00+00</td>\n",
       "      <td>2019/09/06 07:15:00+00</td>\n",
       "      <td>2019</td>\n",
       "      <td>7</td>\n",
       "      <td>732</td>\n",
       "      <td>1</td>\n",
       "      <td>9.281605</td>\n",
       "      <td>07:00:00</td>\n",
       "      <td>Viernes</td>\n",
       "      <td>September</td>\n",
       "      <td>CL63</td>\n",
       "      <td>KR77A;KR72</td>\n",
       "      <td>NaN</td>\n",
       "    </tr>\n",
       "    <tr>\n",
       "      <th>...</th>\n",
       "      <td>...</td>\n",
       "      <td>...</td>\n",
       "      <td>...</td>\n",
       "      <td>...</td>\n",
       "      <td>...</td>\n",
       "      <td>...</td>\n",
       "      <td>...</td>\n",
       "      <td>...</td>\n",
       "      <td>...</td>\n",
       "      <td>...</td>\n",
       "      <td>...</td>\n",
       "      <td>...</td>\n",
       "      <td>...</td>\n",
       "      <td>...</td>\n",
       "      <td>...</td>\n",
       "    </tr>\n",
       "    <tr>\n",
       "      <th>2165215</th>\n",
       "      <td>2166123</td>\n",
       "      <td>116</td>\n",
       "      <td>2019/03/31 23:45:00+00</td>\n",
       "      <td>2019/04/01 00:00:00+00</td>\n",
       "      <td>2019</td>\n",
       "      <td>23</td>\n",
       "      <td>3015</td>\n",
       "      <td>0</td>\n",
       "      <td>36.163350</td>\n",
       "      <td>23:45:00</td>\n",
       "      <td>Domingo</td>\n",
       "      <td>March</td>\n",
       "      <td>TV42,KR50</td>\n",
       "      <td>CL6;CL33SUR</td>\n",
       "      <td>NaN</td>\n",
       "    </tr>\n",
       "    <tr>\n",
       "      <th>2165216</th>\n",
       "      <td>2166124</td>\n",
       "      <td>1000076</td>\n",
       "      <td>2019/03/31 23:45:00+00</td>\n",
       "      <td>2019/04/01 00:00:00+00</td>\n",
       "      <td>2019</td>\n",
       "      <td>23</td>\n",
       "      <td>432</td>\n",
       "      <td>1</td>\n",
       "      <td>27.221366</td>\n",
       "      <td>23:45:00</td>\n",
       "      <td>Domingo</td>\n",
       "      <td>March</td>\n",
       "      <td>CL100</td>\n",
       "      <td>KR19;KR15</td>\n",
       "      <td>NaN</td>\n",
       "    </tr>\n",
       "    <tr>\n",
       "      <th>2165217</th>\n",
       "      <td>2166125</td>\n",
       "      <td>115</td>\n",
       "      <td>2019/03/31 23:45:00+00</td>\n",
       "      <td>2019/04/01 00:00:00+00</td>\n",
       "      <td>2019</td>\n",
       "      <td>23</td>\n",
       "      <td>481</td>\n",
       "      <td>0</td>\n",
       "      <td>32.066666</td>\n",
       "      <td>23:45:00</td>\n",
       "      <td>Domingo</td>\n",
       "      <td>March</td>\n",
       "      <td>KR60;CL68</td>\n",
       "      <td>CL66C;KR58</td>\n",
       "      <td>NaN</td>\n",
       "    </tr>\n",
       "    <tr>\n",
       "      <th>2165218</th>\n",
       "      <td>2166126</td>\n",
       "      <td>1000078</td>\n",
       "      <td>2019/03/31 23:45:00+00</td>\n",
       "      <td>2019/04/01 00:00:00+00</td>\n",
       "      <td>2019</td>\n",
       "      <td>23</td>\n",
       "      <td>976</td>\n",
       "      <td>1</td>\n",
       "      <td>42.940288</td>\n",
       "      <td>23:45:00</td>\n",
       "      <td>Domingo</td>\n",
       "      <td>March</td>\n",
       "      <td>CL100</td>\n",
       "      <td>KR19;KR49</td>\n",
       "      <td>NaN</td>\n",
       "    </tr>\n",
       "    <tr>\n",
       "      <th>2165219</th>\n",
       "      <td>2166127</td>\n",
       "      <td>1000077</td>\n",
       "      <td>2019/03/31 23:45:00+00</td>\n",
       "      <td>2019/04/01 00:00:00+00</td>\n",
       "      <td>2019</td>\n",
       "      <td>23</td>\n",
       "      <td>971</td>\n",
       "      <td>1</td>\n",
       "      <td>53.269987</td>\n",
       "      <td>23:45:00</td>\n",
       "      <td>Domingo</td>\n",
       "      <td>March</td>\n",
       "      <td>CL100</td>\n",
       "      <td>KR49;KR19</td>\n",
       "      <td>NaN</td>\n",
       "    </tr>\n",
       "  </tbody>\n",
       "</table>\n",
       "<p>7471729 rows × 15 columns</p>\n",
       "</div>"
      ],
      "text/plain": [
       "         OBJECTID      TID                  INICIO                     FIN  \\\n",
       "0          537921  1001007  2019/09/06 07:00:00+00  2019/09/06 07:15:00+00   \n",
       "1          537922  1002040  2019/09/06 07:00:00+00  2019/09/06 07:15:00+00   \n",
       "2          537923  1000051  2019/09/06 07:00:00+00  2019/09/06 07:15:00+00   \n",
       "3          537924  1002038  2019/09/06 07:00:00+00  2019/09/06 07:15:00+00   \n",
       "4          537925  1001009  2019/09/06 07:00:00+00  2019/09/06 07:15:00+00   \n",
       "...           ...      ...                     ...                     ...   \n",
       "2165215   2166123      116  2019/03/31 23:45:00+00  2019/04/01 00:00:00+00   \n",
       "2165216   2166124  1000076  2019/03/31 23:45:00+00  2019/04/01 00:00:00+00   \n",
       "2165217   2166125      115  2019/03/31 23:45:00+00  2019/04/01 00:00:00+00   \n",
       "2165218   2166126  1000078  2019/03/31 23:45:00+00  2019/04/01 00:00:00+00   \n",
       "2165219   2166127  1000077  2019/03/31 23:45:00+00  2019/04/01 00:00:00+00   \n",
       "\n",
       "          AÑO  HORA  DISTANCE  TYPE  VEL_PROMEDIO CUARTO_HORA DIA_SEMANA  \\\n",
       "0        2019     7      1068     1     29.920095    07:00:00    Viernes   \n",
       "1        2019     7      1396     1     44.768136    07:00:00    Viernes   \n",
       "2        2019     7      1458     1     16.267973    07:00:00    Viernes   \n",
       "3        2019     7       506     1     52.683532    07:00:00    Viernes   \n",
       "4        2019     7       732     1      9.281605    07:00:00    Viernes   \n",
       "...       ...   ...       ...   ...           ...         ...        ...   \n",
       "2165215  2019    23      3015     0     36.163350    23:45:00    Domingo   \n",
       "2165216  2019    23       432     1     27.221366    23:45:00    Domingo   \n",
       "2165217  2019    23       481     0     32.066666    23:45:00    Domingo   \n",
       "2165218  2019    23       976     1     42.940288    23:45:00    Domingo   \n",
       "2165219  2019    23       971     1     53.269987    23:45:00    Domingo   \n",
       "\n",
       "               MES  NAME_FROM          NAME_TO  SHAPELEN  \n",
       "0        September       CL24       KR68B;KR60       NaN  \n",
       "1        September       CL26   KR66A;AV.ROJAS       NaN  \n",
       "2        September      CL116        KR15;KR11       NaN  \n",
       "3        September       CL26  GOBERNACION;CAN       NaN  \n",
       "4        September       CL63       KR77A;KR72       NaN  \n",
       "...            ...        ...              ...       ...  \n",
       "2165215  March      TV42,KR50      CL6;CL33SUR       NaN  \n",
       "2165216  March          CL100        KR19;KR15       NaN  \n",
       "2165217  March      KR60;CL68       CL66C;KR58       NaN  \n",
       "2165218  March          CL100        KR19;KR49       NaN  \n",
       "2165219  March          CL100        KR49;KR19       NaN  \n",
       "\n",
       "[7471729 rows x 15 columns]"
      ]
     },
     "execution_count": 32,
     "metadata": {},
     "output_type": "execute_result"
    }
   ],
   "source": [
    "df_mov"
   ]
  },
  {
   "cell_type": "markdown",
   "metadata": {},
   "source": [
    "## Análisis Multidimensional de las Variables"
   ]
  },
  {
   "cell_type": "markdown",
   "metadata": {},
   "source": [
    "Velocidad promedio versus la trayectoria realizada.\n",
    "\n",
    "La trayectoria se va a definir como la concatenación entre NAME_FROM y NAME_TO."
   ]
  },
  {
   "cell_type": "code",
   "execution_count": 33,
   "metadata": {},
   "outputs": [],
   "source": [
    "df_mov['TRAYEC'] = df_mov['NAME_FROM'] + ' - ' +df_mov['NAME_TO']"
   ]
  },
  {
   "cell_type": "code",
   "execution_count": 34,
   "metadata": {},
   "outputs": [
    {
     "data": {
      "text/plain": [
       "KR6 - AV.P.MAYO;CL10ASUR     20391\n",
       "AV.AMERICAS - KR74;KR80      20369\n",
       "CL1,KR27 - KR25;AV.P.MAYO    20342\n",
       "KR27,CL1 - AV.P.MAYO;KR25    20302\n",
       "CL1,CL1B - KR25;KR27         20293\n",
       "                             ...  \n",
       "CL85 - KR11;KR15              1745\n",
       "KR86 - CL57BSUR;CL71ASUR      1724\n",
       "KR86 - CL71ASUR;TV79D         1723\n",
       "KR15 - CL85;CL92              1519\n",
       "KR86 - TV79D;KR91               61\n",
       "Name: TRAYEC, Length: 816, dtype: int64"
      ]
     },
     "execution_count": 34,
     "metadata": {},
     "output_type": "execute_result"
    }
   ],
   "source": [
    "df_mov['TRAYEC'].value_counts()"
   ]
  },
  {
   "cell_type": "markdown",
   "metadata": {},
   "source": [
    "Mediana de la velocidad promedio en cada trayecto. VEL_PROMEDIO que es más común en cada trayecto:"
   ]
  },
  {
   "cell_type": "code",
   "execution_count": 35,
   "metadata": {},
   "outputs": [
    {
     "data": {
      "text/plain": [
       "TRAYEC\n",
       "AUTONORTE - ALCALA;CL146               48.393858\n",
       "AUTONORTE - ALCALA;PRADO               51.599929\n",
       "AUTONORTE - CARDIO.INFANTIL;CL146      53.229107\n",
       "AUTONORTE - CARDIO.INFANTIL;TOBERIN    44.079453\n",
       "AUTONORTE - CL100;PEPE.SIERRA          41.504997\n",
       "                                         ...    \n",
       "TV42 - CL6;CL2C                        28.614078\n",
       "TV42,KR50 - CL6;CL33SUR                25.904535\n",
       "TV80A - AV.AMERICAS;KR80               16.566553\n",
       "TV85,CL64BBIS - CL63;KR86              18.497270\n",
       "TV85,CL65BIS,KR85J - CL63;KR86         15.585936\n",
       "Name: VEL_PROMEDIO, Length: 816, dtype: float64"
      ]
     },
     "execution_count": 35,
     "metadata": {},
     "output_type": "execute_result"
    }
   ],
   "source": [
    "medianVel_Tray = df_mov.groupby('TRAYEC').median()['VEL_PROMEDIO']\n",
    "medianVel_Tray"
   ]
  },
  {
   "cell_type": "markdown",
   "metadata": {},
   "source": [
    "## Análisis de Texto"
   ]
  },
  {
   "cell_type": "code",
   "execution_count": 36,
   "metadata": {
    "scrolled": true
   },
   "outputs": [
    {
     "name": "stdout",
     "output_type": "stream",
     "text": [
      "['de', 'la', 'que', 'el', 'en', 'y', 'a', 'los', 'del', 'se', 'las', 'por', 'un', 'para', 'con', 'no', 'una', 'su', 'al', 'lo', 'como', 'más', 'pero', 'sus', 'le', 'ya', 'o', 'este', 'sí', 'porque', 'esta', 'entre', 'cuando', 'muy', 'sin', 'sobre', 'también', 'me', 'hasta', 'hay', 'donde', 'quien', 'desde', 'todo', 'nos', 'durante', 'todos', 'uno', 'les', 'ni', 'contra', 'otros', 'ese', 'eso', 'ante', 'ellos', 'e', 'esto', 'mí', 'antes', 'algunos', 'qué', 'unos', 'yo', 'otro', 'otras', 'otra', 'él', 'tanto', 'esa', 'estos', 'mucho', 'quienes', 'nada', 'muchos', 'cual', 'poco', 'ella', 'estar', 'estas', 'algunas', 'algo', 'nosotros', 'mi', 'mis', 'tú', 'te', 'ti', 'tu', 'tus', 'ellas', 'nosotras', 'vosotros', 'vosotras', 'os', 'mío', 'mía', 'míos', 'mías', 'tuyo', 'tuya', 'tuyos', 'tuyas', 'suyo', 'suya', 'suyos', 'suyas', 'nuestro', 'nuestra', 'nuestros', 'nuestras', 'vuestro', 'vuestra', 'vuestros', 'vuestras', 'esos', 'esas', 'estoy', 'estás', 'está', 'estamos', 'estáis', 'están', 'esté', 'estés', 'estemos', 'estéis', 'estén', 'estaré', 'estarás', 'estará', 'estaremos', 'estaréis', 'estarán', 'estaría', 'estarías', 'estaríamos', 'estaríais', 'estarían', 'estaba', 'estabas', 'estábamos', 'estabais', 'estaban', 'estuve', 'estuviste', 'estuvo', 'estuvimos', 'estuvisteis', 'estuvieron', 'estuviera', 'estuvieras', 'estuviéramos', 'estuvierais', 'estuvieran', 'estuviese', 'estuvieses', 'estuviésemos', 'estuvieseis', 'estuviesen', 'estando', 'estado', 'estada', 'estados', 'estadas', 'estad', 'he', 'has', 'ha', 'hemos', 'habéis', 'han', 'haya', 'hayas', 'hayamos', 'hayáis', 'hayan', 'habré', 'habrás', 'habrá', 'habremos', 'habréis', 'habrán', 'habría', 'habrías', 'habríamos', 'habríais', 'habrían', 'había', 'habías', 'habíamos', 'habíais', 'habían', 'hube', 'hubiste', 'hubo', 'hubimos', 'hubisteis', 'hubieron', 'hubiera', 'hubieras', 'hubiéramos', 'hubierais', 'hubieran', 'hubiese', 'hubieses', 'hubiésemos', 'hubieseis', 'hubiesen', 'habiendo', 'habido', 'habida', 'habidos', 'habidas', 'soy', 'eres', 'es', 'somos', 'sois', 'son', 'sea', 'seas', 'seamos', 'seáis', 'sean', 'seré', 'serás', 'será', 'seremos', 'seréis', 'serán', 'sería', 'serías', 'seríamos', 'seríais', 'serían', 'era', 'eras', 'éramos', 'erais', 'eran', 'fui', 'fuiste', 'fue', 'fuimos', 'fuisteis', 'fueron', 'fuera', 'fueras', 'fuéramos', 'fuerais', 'fueran', 'fuese', 'fueses', 'fuésemos', 'fueseis', 'fuesen', 'sintiendo', 'sentido', 'sentida', 'sentidos', 'sentidas', 'siente', 'sentid', 'tengo', 'tienes', 'tiene', 'tenemos', 'tenéis', 'tienen', 'tenga', 'tengas', 'tengamos', 'tengáis', 'tengan', 'tendré', 'tendrás', 'tendrá', 'tendremos', 'tendréis', 'tendrán', 'tendría', 'tendrías', 'tendríamos', 'tendríais', 'tendrían', 'tenía', 'tenías', 'teníamos', 'teníais', 'tenían', 'tuve', 'tuviste', 'tuvo', 'tuvimos', 'tuvisteis', 'tuvieron', 'tuviera', 'tuvieras', 'tuviéramos', 'tuvierais', 'tuvieran', 'tuviese', 'tuvieses', 'tuviésemos', 'tuvieseis', 'tuviesen', 'teniendo', 'tenido', 'tenida', 'tenidos', 'tenidas', 'tened']\n"
     ]
    }
   ],
   "source": [
    "import nltk\n",
    "from nltk.corpus import stopwords\n",
    "print(stopwords.words('spanish'))"
   ]
  },
  {
   "cell_type": "code",
   "execution_count": 37,
   "metadata": {
    "scrolled": false
   },
   "outputs": [
    {
     "data": {
      "text/plain": [
       "Index(['AV.CARACAS;KR7', 'KR7;KR11', 'KR11;KR7', 'KR15;KR11', 'KR7;AV.CARACAS',\n",
       "       'KR11;KR15', 'KR15;KR19', 'KR19;KR15', 'KR10;AV.CARACAS',\n",
       "       'AV.CARACAS;KR10'],\n",
       "      dtype='object')"
      ]
     },
     "execution_count": 37,
     "metadata": {},
     "output_type": "execute_result"
    }
   ],
   "source": [
    "list_lite_NAME_TO = df_mov['NAME_TO'].value_counts().sort_values(ascending=False).index[0:10]\n",
    "list_lite_NAME_TO"
   ]
  },
  {
   "cell_type": "code",
   "execution_count": 38,
   "metadata": {},
   "outputs": [
    {
     "data": {
      "text/html": [
       "<div>\n",
       "<style scoped>\n",
       "    .dataframe tbody tr th:only-of-type {\n",
       "        vertical-align: middle;\n",
       "    }\n",
       "\n",
       "    .dataframe tbody tr th {\n",
       "        vertical-align: top;\n",
       "    }\n",
       "\n",
       "    .dataframe thead th {\n",
       "        text-align: right;\n",
       "    }\n",
       "</style>\n",
       "<table border=\"1\" class=\"dataframe\">\n",
       "  <thead>\n",
       "    <tr style=\"text-align: right;\">\n",
       "      <th></th>\n",
       "      <th>OBJECTID</th>\n",
       "      <th>TID</th>\n",
       "      <th>INICIO</th>\n",
       "      <th>FIN</th>\n",
       "      <th>AÑO</th>\n",
       "      <th>HORA</th>\n",
       "      <th>DISTANCE</th>\n",
       "      <th>TYPE</th>\n",
       "      <th>VEL_PROMEDIO</th>\n",
       "      <th>CUARTO_HORA</th>\n",
       "      <th>DIA_SEMANA</th>\n",
       "      <th>MES</th>\n",
       "      <th>NAME_FROM</th>\n",
       "      <th>NAME_TO</th>\n",
       "      <th>SHAPELEN</th>\n",
       "      <th>TRAYEC</th>\n",
       "    </tr>\n",
       "  </thead>\n",
       "  <tbody>\n",
       "    <tr>\n",
       "      <th>2</th>\n",
       "      <td>537923</td>\n",
       "      <td>1000051</td>\n",
       "      <td>2019/09/06 07:00:00+00</td>\n",
       "      <td>2019/09/06 07:15:00+00</td>\n",
       "      <td>2019</td>\n",
       "      <td>7</td>\n",
       "      <td>1458</td>\n",
       "      <td>1</td>\n",
       "      <td>16.267973</td>\n",
       "      <td>07:00:00</td>\n",
       "      <td>Viernes</td>\n",
       "      <td>September</td>\n",
       "      <td>CL116</td>\n",
       "      <td>KR15;KR11</td>\n",
       "      <td>NaN</td>\n",
       "      <td>CL116 - KR15;KR11</td>\n",
       "    </tr>\n",
       "    <tr>\n",
       "      <th>18</th>\n",
       "      <td>537939</td>\n",
       "      <td>1000069</td>\n",
       "      <td>2019/09/06 07:00:00+00</td>\n",
       "      <td>2019/09/06 07:15:00+00</td>\n",
       "      <td>2019</td>\n",
       "      <td>7</td>\n",
       "      <td>526</td>\n",
       "      <td>1</td>\n",
       "      <td>30.151908</td>\n",
       "      <td>07:00:00</td>\n",
       "      <td>Viernes</td>\n",
       "      <td>September</td>\n",
       "      <td>CL92</td>\n",
       "      <td>KR11;KR15</td>\n",
       "      <td>NaN</td>\n",
       "      <td>CL92 - KR11;KR15</td>\n",
       "    </tr>\n",
       "    <tr>\n",
       "      <th>26</th>\n",
       "      <td>537947</td>\n",
       "      <td>1000067</td>\n",
       "      <td>2019/09/06 07:00:00+00</td>\n",
       "      <td>2019/09/06 07:15:00+00</td>\n",
       "      <td>2019</td>\n",
       "      <td>7</td>\n",
       "      <td>527</td>\n",
       "      <td>1</td>\n",
       "      <td>25.910706</td>\n",
       "      <td>07:00:00</td>\n",
       "      <td>Viernes</td>\n",
       "      <td>September</td>\n",
       "      <td>CL94</td>\n",
       "      <td>KR11;KR15</td>\n",
       "      <td>NaN</td>\n",
       "      <td>CL94 - KR11;KR15</td>\n",
       "    </tr>\n",
       "    <tr>\n",
       "      <th>30</th>\n",
       "      <td>537951</td>\n",
       "      <td>1000029</td>\n",
       "      <td>2019/09/06 07:00:00+00</td>\n",
       "      <td>2019/09/06 07:15:00+00</td>\n",
       "      <td>2019</td>\n",
       "      <td>7</td>\n",
       "      <td>455</td>\n",
       "      <td>1</td>\n",
       "      <td>20.228330</td>\n",
       "      <td>07:00:00</td>\n",
       "      <td>Viernes</td>\n",
       "      <td>September</td>\n",
       "      <td>CL72</td>\n",
       "      <td>KR7;KR11</td>\n",
       "      <td>NaN</td>\n",
       "      <td>CL72 - KR7;KR11</td>\n",
       "    </tr>\n",
       "    <tr>\n",
       "      <th>34</th>\n",
       "      <td>537955</td>\n",
       "      <td>1000068</td>\n",
       "      <td>2019/09/06 07:00:00+00</td>\n",
       "      <td>2019/09/06 07:15:00+00</td>\n",
       "      <td>2019</td>\n",
       "      <td>7</td>\n",
       "      <td>528</td>\n",
       "      <td>1</td>\n",
       "      <td>8.352791</td>\n",
       "      <td>07:00:00</td>\n",
       "      <td>Viernes</td>\n",
       "      <td>September</td>\n",
       "      <td>CL94</td>\n",
       "      <td>KR15;KR11</td>\n",
       "      <td>NaN</td>\n",
       "      <td>CL94 - KR15;KR11</td>\n",
       "    </tr>\n",
       "    <tr>\n",
       "      <th>...</th>\n",
       "      <td>...</td>\n",
       "      <td>...</td>\n",
       "      <td>...</td>\n",
       "      <td>...</td>\n",
       "      <td>...</td>\n",
       "      <td>...</td>\n",
       "      <td>...</td>\n",
       "      <td>...</td>\n",
       "      <td>...</td>\n",
       "      <td>...</td>\n",
       "      <td>...</td>\n",
       "      <td>...</td>\n",
       "      <td>...</td>\n",
       "      <td>...</td>\n",
       "      <td>...</td>\n",
       "      <td>...</td>\n",
       "    </tr>\n",
       "    <tr>\n",
       "      <th>2165108</th>\n",
       "      <td>2166016</td>\n",
       "      <td>1000668</td>\n",
       "      <td>2019/03/31 23:45:00+00</td>\n",
       "      <td>2019/04/01 00:00:00+00</td>\n",
       "      <td>2019</td>\n",
       "      <td>23</td>\n",
       "      <td>1027</td>\n",
       "      <td>1</td>\n",
       "      <td>38.194274</td>\n",
       "      <td>23:45:00</td>\n",
       "      <td>Domingo</td>\n",
       "      <td>March</td>\n",
       "      <td>AV.P.MAYO</td>\n",
       "      <td>KR10;AV.CARACAS</td>\n",
       "      <td>NaN</td>\n",
       "      <td>AV.P.MAYO - KR10;AV.CARACAS</td>\n",
       "    </tr>\n",
       "    <tr>\n",
       "      <th>2165139</th>\n",
       "      <td>2166047</td>\n",
       "      <td>1000233</td>\n",
       "      <td>2019/03/31 23:45:00+00</td>\n",
       "      <td>2019/04/01 00:00:00+00</td>\n",
       "      <td>2019</td>\n",
       "      <td>23</td>\n",
       "      <td>427</td>\n",
       "      <td>1</td>\n",
       "      <td>42.664199</td>\n",
       "      <td>23:45:00</td>\n",
       "      <td>Domingo</td>\n",
       "      <td>March</td>\n",
       "      <td>CL134</td>\n",
       "      <td>KR15;KR19</td>\n",
       "      <td>NaN</td>\n",
       "      <td>CL134 - KR15;KR19</td>\n",
       "    </tr>\n",
       "    <tr>\n",
       "      <th>2165144</th>\n",
       "      <td>2166052</td>\n",
       "      <td>1000667</td>\n",
       "      <td>2019/03/31 23:45:00+00</td>\n",
       "      <td>2019/04/01 00:00:00+00</td>\n",
       "      <td>2019</td>\n",
       "      <td>23</td>\n",
       "      <td>1032</td>\n",
       "      <td>1</td>\n",
       "      <td>48.377521</td>\n",
       "      <td>23:45:00</td>\n",
       "      <td>Domingo</td>\n",
       "      <td>March</td>\n",
       "      <td>AV.P.MAYO</td>\n",
       "      <td>AV.CARACAS;KR10</td>\n",
       "      <td>NaN</td>\n",
       "      <td>AV.P.MAYO - AV.CARACAS;KR10</td>\n",
       "    </tr>\n",
       "    <tr>\n",
       "      <th>2165179</th>\n",
       "      <td>2166087</td>\n",
       "      <td>1000221</td>\n",
       "      <td>2019/03/31 23:45:00+00</td>\n",
       "      <td>2019/04/01 00:00:00+00</td>\n",
       "      <td>2019</td>\n",
       "      <td>23</td>\n",
       "      <td>462</td>\n",
       "      <td>1</td>\n",
       "      <td>38.184331</td>\n",
       "      <td>23:45:00</td>\n",
       "      <td>Domingo</td>\n",
       "      <td>March</td>\n",
       "      <td>CL147</td>\n",
       "      <td>KR15;KR19</td>\n",
       "      <td>NaN</td>\n",
       "      <td>CL147 - KR15;KR19</td>\n",
       "    </tr>\n",
       "    <tr>\n",
       "      <th>2165216</th>\n",
       "      <td>2166124</td>\n",
       "      <td>1000076</td>\n",
       "      <td>2019/03/31 23:45:00+00</td>\n",
       "      <td>2019/04/01 00:00:00+00</td>\n",
       "      <td>2019</td>\n",
       "      <td>23</td>\n",
       "      <td>432</td>\n",
       "      <td>1</td>\n",
       "      <td>27.221366</td>\n",
       "      <td>23:45:00</td>\n",
       "      <td>Domingo</td>\n",
       "      <td>March</td>\n",
       "      <td>CL100</td>\n",
       "      <td>KR19;KR15</td>\n",
       "      <td>NaN</td>\n",
       "      <td>CL100 - KR19;KR15</td>\n",
       "    </tr>\n",
       "  </tbody>\n",
       "</table>\n",
       "<p>489440 rows × 16 columns</p>\n",
       "</div>"
      ],
      "text/plain": [
       "         OBJECTID      TID                  INICIO                     FIN  \\\n",
       "2          537923  1000051  2019/09/06 07:00:00+00  2019/09/06 07:15:00+00   \n",
       "18         537939  1000069  2019/09/06 07:00:00+00  2019/09/06 07:15:00+00   \n",
       "26         537947  1000067  2019/09/06 07:00:00+00  2019/09/06 07:15:00+00   \n",
       "30         537951  1000029  2019/09/06 07:00:00+00  2019/09/06 07:15:00+00   \n",
       "34         537955  1000068  2019/09/06 07:00:00+00  2019/09/06 07:15:00+00   \n",
       "...           ...      ...                     ...                     ...   \n",
       "2165108   2166016  1000668  2019/03/31 23:45:00+00  2019/04/01 00:00:00+00   \n",
       "2165139   2166047  1000233  2019/03/31 23:45:00+00  2019/04/01 00:00:00+00   \n",
       "2165144   2166052  1000667  2019/03/31 23:45:00+00  2019/04/01 00:00:00+00   \n",
       "2165179   2166087  1000221  2019/03/31 23:45:00+00  2019/04/01 00:00:00+00   \n",
       "2165216   2166124  1000076  2019/03/31 23:45:00+00  2019/04/01 00:00:00+00   \n",
       "\n",
       "          AÑO  HORA  DISTANCE  TYPE  VEL_PROMEDIO CUARTO_HORA DIA_SEMANA  \\\n",
       "2        2019     7      1458     1     16.267973    07:00:00    Viernes   \n",
       "18       2019     7       526     1     30.151908    07:00:00    Viernes   \n",
       "26       2019     7       527     1     25.910706    07:00:00    Viernes   \n",
       "30       2019     7       455     1     20.228330    07:00:00    Viernes   \n",
       "34       2019     7       528     1      8.352791    07:00:00    Viernes   \n",
       "...       ...   ...       ...   ...           ...         ...        ...   \n",
       "2165108  2019    23      1027     1     38.194274    23:45:00    Domingo   \n",
       "2165139  2019    23       427     1     42.664199    23:45:00    Domingo   \n",
       "2165144  2019    23      1032     1     48.377521    23:45:00    Domingo   \n",
       "2165179  2019    23       462     1     38.184331    23:45:00    Domingo   \n",
       "2165216  2019    23       432     1     27.221366    23:45:00    Domingo   \n",
       "\n",
       "               MES  NAME_FROM          NAME_TO  SHAPELEN  \\\n",
       "2        September      CL116        KR15;KR11       NaN   \n",
       "18       September       CL92        KR11;KR15       NaN   \n",
       "26       September       CL94        KR11;KR15       NaN   \n",
       "30       September       CL72         KR7;KR11       NaN   \n",
       "34       September       CL94        KR15;KR11       NaN   \n",
       "...            ...        ...              ...       ...   \n",
       "2165108  March      AV.P.MAYO  KR10;AV.CARACAS       NaN   \n",
       "2165139  March          CL134        KR15;KR19       NaN   \n",
       "2165144  March      AV.P.MAYO  AV.CARACAS;KR10       NaN   \n",
       "2165179  March          CL147        KR15;KR19       NaN   \n",
       "2165216  March          CL100        KR19;KR15       NaN   \n",
       "\n",
       "                              TRAYEC  \n",
       "2                  CL116 - KR15;KR11  \n",
       "18                  CL92 - KR11;KR15  \n",
       "26                  CL94 - KR11;KR15  \n",
       "30                   CL72 - KR7;KR11  \n",
       "34                  CL94 - KR15;KR11  \n",
       "...                              ...  \n",
       "2165108  AV.P.MAYO - KR10;AV.CARACAS  \n",
       "2165139            CL134 - KR15;KR19  \n",
       "2165144  AV.P.MAYO - AV.CARACAS;KR10  \n",
       "2165179            CL147 - KR15;KR19  \n",
       "2165216            CL100 - KR19;KR15  \n",
       "\n",
       "[489440 rows x 16 columns]"
      ]
     },
     "execution_count": 38,
     "metadata": {},
     "output_type": "execute_result"
    }
   ],
   "source": [
    "df_mov_filter_lite_NAME_TO = df_mov[df_mov['NAME_TO'].isin(list_lite_NAME_TO)]\n",
    "df_mov_filter_lite_NAME_TO"
   ]
  },
  {
   "cell_type": "code",
   "execution_count": 39,
   "metadata": {},
   "outputs": [],
   "source": [
    "textos_destino = ''\n",
    "for row in df_mov_filter_lite_NAME_TO['NAME_TO']:\n",
    "    textos_destino = textos_destino + ' ' + row"
   ]
  },
  {
   "cell_type": "code",
   "execution_count": 40,
   "metadata": {},
   "outputs": [
    {
     "name": "stdout",
     "output_type": "stream",
     "text": [
      "/home/ivan/anaconda3/bin/python\n"
     ]
    }
   ],
   "source": [
    "## to check the ModuleNotFoundError: No module named 'wordcloud'\n",
    "## install:\n",
    "## /anaconda3/bin/python -m pip install wordcloud\n",
    "import sys\n",
    "print(sys.executable)"
   ]
  },
  {
   "cell_type": "code",
   "execution_count": 41,
   "metadata": {},
   "outputs": [],
   "source": [
    "from wordcloud import WordCloud\n",
    "import matplotlib.pyplot as plt"
   ]
  },
  {
   "cell_type": "code",
   "execution_count": 42,
   "metadata": {},
   "outputs": [
    {
     "data": {
      "image/png": "[encoded data removed]",
      "text/plain": [
       "<Figure size 432x288 with 1 Axes>"
      ]
     },
     "metadata": {
      "needs_background": "light"
     },
     "output_type": "display_data"
    }
   ],
   "source": [
    "wc = WordCloud(background_color= 'white')\n",
    "wc.generate(textos_destino)\n",
    "\n",
    "plt.axis(\"off\")\n",
    "plt.imshow(wc, interpolation='bilinear')\n",
    "plt.show()"
   ]
  },
  {
   "cell_type": "code",
   "execution_count": null,
   "metadata": {},
   "outputs": [],
   "source": []
  }
 ],
 "metadata": {
  "kernelspec": {
   "display_name": "Python 3 (ipykernel)",
   "language": "python",
   "name": "python3"
  },
  "language_info": {
   "codemirror_mode": {
    "name": "ipython",
    "version": 3
   },
   "file_extension": ".py",
   "mimetype": "text/x-python",
   "name": "python",
   "nbconvert_exporter": "python",
   "pygments_lexer": "ipython3",
   "version": "3.7.6"
  }
 },
 "nbformat": 4,
 "nbformat_minor": 4
}
