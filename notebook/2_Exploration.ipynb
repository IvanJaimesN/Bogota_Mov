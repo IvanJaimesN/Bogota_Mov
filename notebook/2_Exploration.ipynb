{
 "cells": [
  {
   "cell_type": "code",
   "execution_count": 1,
   "metadata": {},
   "outputs": [],
   "source": [
    "%matplotlib inline\n",
    "import pandas as pd\n",
    "import matplotlib.pyplot as plt\n"
   ]
  },
  {
   "cell_type": "code",
   "execution_count": 2,
   "metadata": {},
   "outputs": [],
   "source": [
    "mov_df = pd.read_csv('data/data_Mov_Bogota_2019_2.csv')"
   ]
  },
  {
   "cell_type": "code",
   "execution_count": 3,
   "metadata": {},
   "outputs": [
    {
     "data": {
      "text/html": [
       "<div>\n",
       "<style scoped>\n",
       "    .dataframe tbody tr th:only-of-type {\n",
       "        vertical-align: middle;\n",
       "    }\n",
       "\n",
       "    .dataframe tbody tr th {\n",
       "        vertical-align: top;\n",
       "    }\n",
       "\n",
       "    .dataframe thead th {\n",
       "        text-align: right;\n",
       "    }\n",
       "</style>\n",
       "<table border=\"1\" class=\"dataframe\">\n",
       "  <thead>\n",
       "    <tr style=\"text-align: right;\">\n",
       "      <th></th>\n",
       "      <th>OBJECTID</th>\n",
       "      <th>TID</th>\n",
       "      <th>INICIO</th>\n",
       "      <th>FIN</th>\n",
       "      <th>AÑO</th>\n",
       "      <th>HORA</th>\n",
       "      <th>DISTANCE</th>\n",
       "      <th>TYPE</th>\n",
       "      <th>VEL_PROMEDIO</th>\n",
       "      <th>CUARTO_HORA</th>\n",
       "      <th>DIA_SEMANA</th>\n",
       "      <th>MES</th>\n",
       "      <th>NAME_FROM</th>\n",
       "      <th>NAME_TO</th>\n",
       "      <th>SHAPELEN</th>\n",
       "      <th>Shape__Length</th>\n",
       "    </tr>\n",
       "  </thead>\n",
       "  <tbody>\n",
       "    <tr>\n",
       "      <th>0</th>\n",
       "      <td>537921</td>\n",
       "      <td>1001007</td>\n",
       "      <td>2019/09/06 07:00:00+00</td>\n",
       "      <td>2019/09/06 07:15:00+00</td>\n",
       "      <td>2019</td>\n",
       "      <td>7</td>\n",
       "      <td>1068</td>\n",
       "      <td>1</td>\n",
       "      <td>29.920095</td>\n",
       "      <td>07:00:00</td>\n",
       "      <td>Viernes</td>\n",
       "      <td>September</td>\n",
       "      <td>CL24</td>\n",
       "      <td>KR68B;KR60</td>\n",
       "      <td>NaN</td>\n",
       "      <td>NaN</td>\n",
       "    </tr>\n",
       "    <tr>\n",
       "      <th>1</th>\n",
       "      <td>537922</td>\n",
       "      <td>1002040</td>\n",
       "      <td>2019/09/06 07:00:00+00</td>\n",
       "      <td>2019/09/06 07:15:00+00</td>\n",
       "      <td>2019</td>\n",
       "      <td>7</td>\n",
       "      <td>1396</td>\n",
       "      <td>1</td>\n",
       "      <td>44.768136</td>\n",
       "      <td>07:00:00</td>\n",
       "      <td>Viernes</td>\n",
       "      <td>September</td>\n",
       "      <td>CL26</td>\n",
       "      <td>KR66A;AV.ROJAS</td>\n",
       "      <td>NaN</td>\n",
       "      <td>NaN</td>\n",
       "    </tr>\n",
       "    <tr>\n",
       "      <th>2</th>\n",
       "      <td>537923</td>\n",
       "      <td>1000051</td>\n",
       "      <td>2019/09/06 07:00:00+00</td>\n",
       "      <td>2019/09/06 07:15:00+00</td>\n",
       "      <td>2019</td>\n",
       "      <td>7</td>\n",
       "      <td>1458</td>\n",
       "      <td>1</td>\n",
       "      <td>16.267973</td>\n",
       "      <td>07:00:00</td>\n",
       "      <td>Viernes</td>\n",
       "      <td>September</td>\n",
       "      <td>CL116</td>\n",
       "      <td>KR15;KR11</td>\n",
       "      <td>NaN</td>\n",
       "      <td>NaN</td>\n",
       "    </tr>\n",
       "    <tr>\n",
       "      <th>3</th>\n",
       "      <td>537924</td>\n",
       "      <td>1002038</td>\n",
       "      <td>2019/09/06 07:00:00+00</td>\n",
       "      <td>2019/09/06 07:15:00+00</td>\n",
       "      <td>2019</td>\n",
       "      <td>7</td>\n",
       "      <td>506</td>\n",
       "      <td>1</td>\n",
       "      <td>52.683532</td>\n",
       "      <td>07:00:00</td>\n",
       "      <td>Viernes</td>\n",
       "      <td>September</td>\n",
       "      <td>CL26</td>\n",
       "      <td>GOBERNACION;CAN</td>\n",
       "      <td>NaN</td>\n",
       "      <td>NaN</td>\n",
       "    </tr>\n",
       "    <tr>\n",
       "      <th>4</th>\n",
       "      <td>537925</td>\n",
       "      <td>1001009</td>\n",
       "      <td>2019/09/06 07:00:00+00</td>\n",
       "      <td>2019/09/06 07:15:00+00</td>\n",
       "      <td>2019</td>\n",
       "      <td>7</td>\n",
       "      <td>732</td>\n",
       "      <td>1</td>\n",
       "      <td>9.281605</td>\n",
       "      <td>07:00:00</td>\n",
       "      <td>Viernes</td>\n",
       "      <td>September</td>\n",
       "      <td>CL63</td>\n",
       "      <td>KR77A;KR72</td>\n",
       "      <td>NaN</td>\n",
       "      <td>NaN</td>\n",
       "    </tr>\n",
       "  </tbody>\n",
       "</table>\n",
       "</div>"
      ],
      "text/plain": [
       "   OBJECTID      TID                  INICIO                     FIN   AÑO  \\\n",
       "0    537921  1001007  2019/09/06 07:00:00+00  2019/09/06 07:15:00+00  2019   \n",
       "1    537922  1002040  2019/09/06 07:00:00+00  2019/09/06 07:15:00+00  2019   \n",
       "2    537923  1000051  2019/09/06 07:00:00+00  2019/09/06 07:15:00+00  2019   \n",
       "3    537924  1002038  2019/09/06 07:00:00+00  2019/09/06 07:15:00+00  2019   \n",
       "4    537925  1001009  2019/09/06 07:00:00+00  2019/09/06 07:15:00+00  2019   \n",
       "\n",
       "   HORA  DISTANCE  TYPE  VEL_PROMEDIO CUARTO_HORA DIA_SEMANA        MES  \\\n",
       "0     7      1068     1     29.920095    07:00:00    Viernes  September   \n",
       "1     7      1396     1     44.768136    07:00:00    Viernes  September   \n",
       "2     7      1458     1     16.267973    07:00:00    Viernes  September   \n",
       "3     7       506     1     52.683532    07:00:00    Viernes  September   \n",
       "4     7       732     1      9.281605    07:00:00    Viernes  September   \n",
       "\n",
       "  NAME_FROM          NAME_TO  SHAPELEN  Shape__Length  \n",
       "0      CL24       KR68B;KR60       NaN            NaN  \n",
       "1      CL26   KR66A;AV.ROJAS       NaN            NaN  \n",
       "2     CL116        KR15;KR11       NaN            NaN  \n",
       "3      CL26  GOBERNACION;CAN       NaN            NaN  \n",
       "4      CL63       KR77A;KR72       NaN            NaN  "
      ]
     },
     "execution_count": 3,
     "metadata": {},
     "output_type": "execute_result"
    }
   ],
   "source": [
    "mov_df.head(5)"
   ]
  },
  {
   "cell_type": "code",
   "execution_count": 4,
   "metadata": {},
   "outputs": [
    {
     "name": "stdout",
     "output_type": "stream",
     "text": [
      "<class 'pandas.core.frame.DataFrame'>\n",
      "RangeIndex: 16267959 entries, 0 to 16267958\n",
      "Data columns (total 16 columns):\n",
      " #   Column         Dtype  \n",
      "---  ------         -----  \n",
      " 0   OBJECTID       int64  \n",
      " 1   TID            int64  \n",
      " 2   INICIO         object \n",
      " 3   FIN            object \n",
      " 4   AÑO            int64  \n",
      " 5   HORA           int64  \n",
      " 6   DISTANCE       int64  \n",
      " 7   TYPE           int64  \n",
      " 8   VEL_PROMEDIO   float64\n",
      " 9   CUARTO_HORA    object \n",
      " 10  DIA_SEMANA     object \n",
      " 11  MES            object \n",
      " 12  NAME_FROM      object \n",
      " 13  NAME_TO        object \n",
      " 14  SHAPELEN       float64\n",
      " 15  Shape__Length  float64\n",
      "dtypes: float64(3), int64(6), object(7)\n",
      "memory usage: 1.9+ GB\n"
     ]
    }
   ],
   "source": [
    "mov_df.info()"
   ]
  },
  {
   "cell_type": "markdown",
   "metadata": {},
   "source": [
    "## Visión General del Dataset"
   ]
  },
  {
   "cell_type": "code",
   "execution_count": 5,
   "metadata": {
    "scrolled": false
   },
   "outputs": [
    {
     "data": {
      "text/plain": [
       "Index(['OBJECTID', 'TID', 'INICIO', 'FIN', 'AÑO', 'HORA', 'DISTANCE', 'TYPE',\n",
       "       'VEL_PROMEDIO', 'CUARTO_HORA', 'DIA_SEMANA', 'MES', 'NAME_FROM',\n",
       "       'NAME_TO', 'SHAPELEN', 'Shape__Length'],\n",
       "      dtype='object')"
      ]
     },
     "execution_count": 5,
     "metadata": {},
     "output_type": "execute_result"
    }
   ],
   "source": [
    "mov_df.columns"
   ]
  },
  {
   "cell_type": "code",
   "execution_count": 6,
   "metadata": {
    "scrolled": true
   },
   "outputs": [
    {
     "data": {
      "text/plain": [
       "OBJECTID           int64\n",
       "TID                int64\n",
       "INICIO            object\n",
       "FIN               object\n",
       "AÑO                int64\n",
       "HORA               int64\n",
       "DISTANCE           int64\n",
       "TYPE               int64\n",
       "VEL_PROMEDIO     float64\n",
       "CUARTO_HORA       object\n",
       "DIA_SEMANA        object\n",
       "MES               object\n",
       "NAME_FROM         object\n",
       "NAME_TO           object\n",
       "SHAPELEN         float64\n",
       "Shape__Length    float64\n",
       "dtype: object"
      ]
     },
     "execution_count": 6,
     "metadata": {},
     "output_type": "execute_result"
    }
   ],
   "source": [
    "mov_df.dtypes"
   ]
  },
  {
   "cell_type": "code",
   "execution_count": 7,
   "metadata": {
    "scrolled": true
   },
   "outputs": [
    {
     "data": {
      "text/html": [
       "<div>\n",
       "<style scoped>\n",
       "    .dataframe tbody tr th:only-of-type {\n",
       "        vertical-align: middle;\n",
       "    }\n",
       "\n",
       "    .dataframe tbody tr th {\n",
       "        vertical-align: top;\n",
       "    }\n",
       "\n",
       "    .dataframe thead th {\n",
       "        text-align: right;\n",
       "    }\n",
       "</style>\n",
       "<table border=\"1\" class=\"dataframe\">\n",
       "  <thead>\n",
       "    <tr style=\"text-align: right;\">\n",
       "      <th></th>\n",
       "      <th>OBJECTID</th>\n",
       "      <th>TID</th>\n",
       "      <th>AÑO</th>\n",
       "      <th>HORA</th>\n",
       "      <th>DISTANCE</th>\n",
       "      <th>TYPE</th>\n",
       "      <th>VEL_PROMEDIO</th>\n",
       "      <th>SHAPELEN</th>\n",
       "      <th>Shape__Length</th>\n",
       "    </tr>\n",
       "  </thead>\n",
       "  <tbody>\n",
       "    <tr>\n",
       "      <th>count</th>\n",
       "      <td>1.626796e+07</td>\n",
       "      <td>1.626796e+07</td>\n",
       "      <td>1.626796e+07</td>\n",
       "      <td>1.626796e+07</td>\n",
       "      <td>1.626796e+07</td>\n",
       "      <td>1.626796e+07</td>\n",
       "      <td>1.626796e+07</td>\n",
       "      <td>2.193928e+06</td>\n",
       "      <td>2.007498e+06</td>\n",
       "    </tr>\n",
       "    <tr>\n",
       "      <th>mean</th>\n",
       "      <td>1.642201e+06</td>\n",
       "      <td>8.200344e+05</td>\n",
       "      <td>2.019066e+03</td>\n",
       "      <td>1.159962e+01</td>\n",
       "      <td>1.528041e+03</td>\n",
       "      <td>8.192896e-01</td>\n",
       "      <td>2.779101e+01</td>\n",
       "      <td>1.973756e-02</td>\n",
       "      <td>1.451430e-02</td>\n",
       "    </tr>\n",
       "    <tr>\n",
       "      <th>std</th>\n",
       "      <td>1.076393e+06</td>\n",
       "      <td>3.850931e+05</td>\n",
       "      <td>2.482064e-01</td>\n",
       "      <td>6.904034e+00</td>\n",
       "      <td>2.549428e+03</td>\n",
       "      <td>3.847781e-01</td>\n",
       "      <td>1.372686e+01</td>\n",
       "      <td>9.332189e-02</td>\n",
       "      <td>5.030136e-02</td>\n",
       "    </tr>\n",
       "    <tr>\n",
       "      <th>min</th>\n",
       "      <td>1.000000e+00</td>\n",
       "      <td>1.000000e+00</td>\n",
       "      <td>2.019000e+03</td>\n",
       "      <td>0.000000e+00</td>\n",
       "      <td>0.000000e+00</td>\n",
       "      <td>0.000000e+00</td>\n",
       "      <td>9.145946e-01</td>\n",
       "      <td>1.448918e-03</td>\n",
       "      <td>1.448918e-03</td>\n",
       "    </tr>\n",
       "    <tr>\n",
       "      <th>25%</th>\n",
       "      <td>8.294860e+05</td>\n",
       "      <td>1.000067e+06</td>\n",
       "      <td>2.019000e+03</td>\n",
       "      <td>6.000000e+00</td>\n",
       "      <td>5.620000e+02</td>\n",
       "      <td>1.000000e+00</td>\n",
       "      <td>1.735914e+01</td>\n",
       "      <td>5.254766e-03</td>\n",
       "      <td>5.029943e-03</td>\n",
       "    </tr>\n",
       "    <tr>\n",
       "      <th>50%</th>\n",
       "      <td>1.534209e+06</td>\n",
       "      <td>1.000678e+06</td>\n",
       "      <td>2.019000e+03</td>\n",
       "      <td>1.200000e+01</td>\n",
       "      <td>8.450000e+02</td>\n",
       "      <td>1.000000e+00</td>\n",
       "      <td>2.509016e+01</td>\n",
       "      <td>7.971313e-03</td>\n",
       "      <td>7.612114e-03</td>\n",
       "    </tr>\n",
       "    <tr>\n",
       "      <th>75%</th>\n",
       "      <td>2.147090e+06</td>\n",
       "      <td>1.001053e+06</td>\n",
       "      <td>2.019000e+03</td>\n",
       "      <td>1.800000e+01</td>\n",
       "      <td>1.313000e+03</td>\n",
       "      <td>1.000000e+00</td>\n",
       "      <td>3.566900e+01</td>\n",
       "      <td>1.233273e-02</td>\n",
       "      <td>1.179775e-02</td>\n",
       "    </tr>\n",
       "    <tr>\n",
       "      <th>max</th>\n",
       "      <td>4.724021e+06</td>\n",
       "      <td>1.002369e+06</td>\n",
       "      <td>2.020000e+03</td>\n",
       "      <td>2.300000e+01</td>\n",
       "      <td>3.275900e+04</td>\n",
       "      <td>1.000000e+00</td>\n",
       "      <td>9.999000e+01</td>\n",
       "      <td>1.414214e+00</td>\n",
       "      <td>1.414214e+00</td>\n",
       "    </tr>\n",
       "  </tbody>\n",
       "</table>\n",
       "</div>"
      ],
      "text/plain": [
       "           OBJECTID           TID           AÑO          HORA      DISTANCE  \\\n",
       "count  1.626796e+07  1.626796e+07  1.626796e+07  1.626796e+07  1.626796e+07   \n",
       "mean   1.642201e+06  8.200344e+05  2.019066e+03  1.159962e+01  1.528041e+03   \n",
       "std    1.076393e+06  3.850931e+05  2.482064e-01  6.904034e+00  2.549428e+03   \n",
       "min    1.000000e+00  1.000000e+00  2.019000e+03  0.000000e+00  0.000000e+00   \n",
       "25%    8.294860e+05  1.000067e+06  2.019000e+03  6.000000e+00  5.620000e+02   \n",
       "50%    1.534209e+06  1.000678e+06  2.019000e+03  1.200000e+01  8.450000e+02   \n",
       "75%    2.147090e+06  1.001053e+06  2.019000e+03  1.800000e+01  1.313000e+03   \n",
       "max    4.724021e+06  1.002369e+06  2.020000e+03  2.300000e+01  3.275900e+04   \n",
       "\n",
       "               TYPE  VEL_PROMEDIO      SHAPELEN  Shape__Length  \n",
       "count  1.626796e+07  1.626796e+07  2.193928e+06   2.007498e+06  \n",
       "mean   8.192896e-01  2.779101e+01  1.973756e-02   1.451430e-02  \n",
       "std    3.847781e-01  1.372686e+01  9.332189e-02   5.030136e-02  \n",
       "min    0.000000e+00  9.145946e-01  1.448918e-03   1.448918e-03  \n",
       "25%    1.000000e+00  1.735914e+01  5.254766e-03   5.029943e-03  \n",
       "50%    1.000000e+00  2.509016e+01  7.971313e-03   7.612114e-03  \n",
       "75%    1.000000e+00  3.566900e+01  1.233273e-02   1.179775e-02  \n",
       "max    1.000000e+00  9.999000e+01  1.414214e+00   1.414214e+00  "
      ]
     },
     "execution_count": 7,
     "metadata": {},
     "output_type": "execute_result"
    }
   ],
   "source": [
    "mov_df.describe()"
   ]
  },
  {
   "cell_type": "code",
   "execution_count": 8,
   "metadata": {},
   "outputs": [],
   "source": [
    "## Selección de variables \n",
    "mov_df = mov_df[['OBJECTID', 'TID', 'INICIO', 'FIN',\n",
    "                 'HORA', 'DISTANCE', 'TYPE', 'VEL_PROMEDIO', \n",
    "                 'DIA_SEMANA', 'MES', 'NAME_FROM', 'NAME_TO']]"
   ]
  },
  {
   "cell_type": "markdown",
   "metadata": {},
   "source": [
    "## Análisis Unidimensional de las Variables"
   ]
  },
  {
   "cell_type": "code",
   "execution_count": 9,
   "metadata": {},
   "outputs": [
    {
     "data": {
      "text/plain": [
       "<matplotlib.axes._subplots.AxesSubplot at 0x7f763fe50d10>"
      ]
     },
     "execution_count": 9,
     "metadata": {},
     "output_type": "execute_result"
    },
    {
     "data": {
      "image/png": "[encoded data removed]",
      "text/plain": [
       "<Figure size 432x288 with 1 Axes>"
      ]
     },
     "metadata": {
      "needs_background": "light"
     },
     "output_type": "display_data"
    }
   ],
   "source": [
    "## Conteo de la ocurrencia de una variable y un valor\n",
    "\n",
    "# Conteo de la movilidad en cada mes\n",
    "mov_df_sorted = mov_df.sort_values('MES')\n",
    "mov_df_sorted['MES'].hist(bins=15, xrot=45, grid=True)\n",
    "##plt.xticks(rotation=45)"
   ]
  },
  {
   "cell_type": "code",
   "execution_count": 10,
   "metadata": {},
   "outputs": [
    {
     "data": {
      "text/plain": [
       "Martes       0.147475\n",
       "Sabado       0.147405\n",
       "Viernes      0.146042\n",
       "Domingo      0.143240\n",
       "Lunes        0.142752\n",
       "Jueves       0.139367\n",
       "Miercoles    0.133719\n",
       "Name: DIA_SEMANA, dtype: float64"
      ]
     },
     "execution_count": 10,
     "metadata": {},
     "output_type": "execute_result"
    }
   ],
   "source": [
    "mov_df['DIA_SEMANA'].value_counts(normalize=True)"
   ]
  },
  {
   "cell_type": "code",
   "execution_count": 11,
   "metadata": {},
   "outputs": [
    {
     "data": {
      "text/plain": [
       "KR7           918303\n",
       "NQS           811327\n",
       "AV.CARACAS    681469\n",
       "KR72          668881\n",
       "AV.P.MAYO     628137\n",
       "               ...  \n",
       "KR61SUR        17114\n",
       "KR27;TV28      11029\n",
       "KR68SUR         8585\n",
       "CL153           8584\n",
       "KR19C           8498\n",
       "Name: NAME_FROM, Length: 105, dtype: int64"
      ]
     },
     "execution_count": 11,
     "metadata": {},
     "output_type": "execute_result"
    }
   ],
   "source": [
    "mov_df['NAME_FROM'].value_counts()"
   ]
  },
  {
   "cell_type": "code",
   "execution_count": 12,
   "metadata": {},
   "outputs": [
    {
     "data": {
      "text/plain": [
       "AV.CARACAS;KR7     152557\n",
       "KR7;KR11           132544\n",
       "KR11;KR7           112619\n",
       "KR15;KR11          111948\n",
       "KR7;AV.CARACAS     107654\n",
       "                    ...  \n",
       "CL37SUR;CL40SUR      1034\n",
       "CL27;CL24             799\n",
       "KR14;KR5              781\n",
       "TV79D;KR91             61\n",
       "CL127;CL100            25\n",
       "Name: NAME_TO, Length: 716, dtype: int64"
      ]
     },
     "execution_count": 12,
     "metadata": {},
     "output_type": "execute_result"
    }
   ],
   "source": [
    "mov_df['NAME_TO'].value_counts()"
   ]
  },
  {
   "cell_type": "code",
   "execution_count": 13,
   "metadata": {},
   "outputs": [
    {
     "data": {
      "text/html": [
       "<div>\n",
       "<style scoped>\n",
       "    .dataframe tbody tr th:only-of-type {\n",
       "        vertical-align: middle;\n",
       "    }\n",
       "\n",
       "    .dataframe tbody tr th {\n",
       "        vertical-align: top;\n",
       "    }\n",
       "\n",
       "    .dataframe thead th {\n",
       "        text-align: right;\n",
       "    }\n",
       "</style>\n",
       "<table border=\"1\" class=\"dataframe\">\n",
       "  <thead>\n",
       "    <tr style=\"text-align: right;\">\n",
       "      <th></th>\n",
       "      <th>OBJECTID</th>\n",
       "      <th>TID</th>\n",
       "      <th>INICIO</th>\n",
       "      <th>FIN</th>\n",
       "      <th>HORA</th>\n",
       "      <th>DISTANCE</th>\n",
       "      <th>TYPE</th>\n",
       "      <th>VEL_PROMEDIO</th>\n",
       "      <th>DIA_SEMANA</th>\n",
       "      <th>MES</th>\n",
       "      <th>NAME_FROM</th>\n",
       "      <th>NAME_TO</th>\n",
       "    </tr>\n",
       "  </thead>\n",
       "  <tbody>\n",
       "    <tr>\n",
       "      <th>0</th>\n",
       "      <td>537921</td>\n",
       "      <td>1001007</td>\n",
       "      <td>2019/09/06 07:00:00+00</td>\n",
       "      <td>2019/09/06 07:15:00+00</td>\n",
       "      <td>7</td>\n",
       "      <td>1068</td>\n",
       "      <td>1</td>\n",
       "      <td>29.920095</td>\n",
       "      <td>Viernes</td>\n",
       "      <td>September</td>\n",
       "      <td>CL24</td>\n",
       "      <td>KR68B;KR60</td>\n",
       "    </tr>\n",
       "    <tr>\n",
       "      <th>1</th>\n",
       "      <td>537922</td>\n",
       "      <td>1002040</td>\n",
       "      <td>2019/09/06 07:00:00+00</td>\n",
       "      <td>2019/09/06 07:15:00+00</td>\n",
       "      <td>7</td>\n",
       "      <td>1396</td>\n",
       "      <td>1</td>\n",
       "      <td>44.768136</td>\n",
       "      <td>Viernes</td>\n",
       "      <td>September</td>\n",
       "      <td>CL26</td>\n",
       "      <td>KR66A;AV.ROJAS</td>\n",
       "    </tr>\n",
       "    <tr>\n",
       "      <th>2</th>\n",
       "      <td>537923</td>\n",
       "      <td>1000051</td>\n",
       "      <td>2019/09/06 07:00:00+00</td>\n",
       "      <td>2019/09/06 07:15:00+00</td>\n",
       "      <td>7</td>\n",
       "      <td>1458</td>\n",
       "      <td>1</td>\n",
       "      <td>16.267973</td>\n",
       "      <td>Viernes</td>\n",
       "      <td>September</td>\n",
       "      <td>CL116</td>\n",
       "      <td>KR15;KR11</td>\n",
       "    </tr>\n",
       "    <tr>\n",
       "      <th>3</th>\n",
       "      <td>537924</td>\n",
       "      <td>1002038</td>\n",
       "      <td>2019/09/06 07:00:00+00</td>\n",
       "      <td>2019/09/06 07:15:00+00</td>\n",
       "      <td>7</td>\n",
       "      <td>506</td>\n",
       "      <td>1</td>\n",
       "      <td>52.683532</td>\n",
       "      <td>Viernes</td>\n",
       "      <td>September</td>\n",
       "      <td>CL26</td>\n",
       "      <td>GOBERNACION;CAN</td>\n",
       "    </tr>\n",
       "    <tr>\n",
       "      <th>4</th>\n",
       "      <td>537925</td>\n",
       "      <td>1001009</td>\n",
       "      <td>2019/09/06 07:00:00+00</td>\n",
       "      <td>2019/09/06 07:15:00+00</td>\n",
       "      <td>7</td>\n",
       "      <td>732</td>\n",
       "      <td>1</td>\n",
       "      <td>9.281605</td>\n",
       "      <td>Viernes</td>\n",
       "      <td>September</td>\n",
       "      <td>CL63</td>\n",
       "      <td>KR77A;KR72</td>\n",
       "    </tr>\n",
       "    <tr>\n",
       "      <th>...</th>\n",
       "      <td>...</td>\n",
       "      <td>...</td>\n",
       "      <td>...</td>\n",
       "      <td>...</td>\n",
       "      <td>...</td>\n",
       "      <td>...</td>\n",
       "      <td>...</td>\n",
       "      <td>...</td>\n",
       "      <td>...</td>\n",
       "      <td>...</td>\n",
       "      <td>...</td>\n",
       "      <td>...</td>\n",
       "    </tr>\n",
       "    <tr>\n",
       "      <th>16267954</th>\n",
       "      <td>2012318</td>\n",
       "      <td>1002036</td>\n",
       "      <td>2019/05/31 23:45:00+00</td>\n",
       "      <td>2019/06/01 00:00:00+00</td>\n",
       "      <td>23</td>\n",
       "      <td>1366</td>\n",
       "      <td>1</td>\n",
       "      <td>52.092345</td>\n",
       "      <td>Viernes</td>\n",
       "      <td>May</td>\n",
       "      <td>CL26</td>\n",
       "      <td>GOBERNACION;KR40</td>\n",
       "    </tr>\n",
       "    <tr>\n",
       "      <th>16267955</th>\n",
       "      <td>2012319</td>\n",
       "      <td>1001931</td>\n",
       "      <td>2019/05/31 23:45:00+00</td>\n",
       "      <td>2019/06/01 00:00:00+00</td>\n",
       "      <td>23</td>\n",
       "      <td>1399</td>\n",
       "      <td>1</td>\n",
       "      <td>10.503962</td>\n",
       "      <td>Viernes</td>\n",
       "      <td>May</td>\n",
       "      <td>KR24,TV24</td>\n",
       "      <td>CL45;CL57</td>\n",
       "    </tr>\n",
       "    <tr>\n",
       "      <th>16267956</th>\n",
       "      <td>2012320</td>\n",
       "      <td>1002030</td>\n",
       "      <td>2019/05/31 23:45:00+00</td>\n",
       "      <td>2019/06/01 00:00:00+00</td>\n",
       "      <td>23</td>\n",
       "      <td>1212</td>\n",
       "      <td>1</td>\n",
       "      <td>47.719449</td>\n",
       "      <td>Viernes</td>\n",
       "      <td>May</td>\n",
       "      <td>AV.SUBA</td>\n",
       "      <td>21.ANGELES;CL136</td>\n",
       "    </tr>\n",
       "    <tr>\n",
       "      <th>16267957</th>\n",
       "      <td>2012321</td>\n",
       "      <td>1001940</td>\n",
       "      <td>2019/05/31 23:45:00+00</td>\n",
       "      <td>2019/06/01 00:00:00+00</td>\n",
       "      <td>23</td>\n",
       "      <td>947</td>\n",
       "      <td>1</td>\n",
       "      <td>33.260065</td>\n",
       "      <td>Viernes</td>\n",
       "      <td>May</td>\n",
       "      <td>CL43SUR</td>\n",
       "      <td>KR86;KR80</td>\n",
       "    </tr>\n",
       "    <tr>\n",
       "      <th>16267958</th>\n",
       "      <td>2012322</td>\n",
       "      <td>1002041</td>\n",
       "      <td>2019/05/31 23:45:00+00</td>\n",
       "      <td>2019/06/01 00:00:00+00</td>\n",
       "      <td>23</td>\n",
       "      <td>1411</td>\n",
       "      <td>1</td>\n",
       "      <td>56.366585</td>\n",
       "      <td>Viernes</td>\n",
       "      <td>May</td>\n",
       "      <td>CL26</td>\n",
       "      <td>AV.ROJAS;KR66A</td>\n",
       "    </tr>\n",
       "  </tbody>\n",
       "</table>\n",
       "<p>16267959 rows × 12 columns</p>\n",
       "</div>"
      ],
      "text/plain": [
       "          OBJECTID      TID                  INICIO                     FIN  \\\n",
       "0           537921  1001007  2019/09/06 07:00:00+00  2019/09/06 07:15:00+00   \n",
       "1           537922  1002040  2019/09/06 07:00:00+00  2019/09/06 07:15:00+00   \n",
       "2           537923  1000051  2019/09/06 07:00:00+00  2019/09/06 07:15:00+00   \n",
       "3           537924  1002038  2019/09/06 07:00:00+00  2019/09/06 07:15:00+00   \n",
       "4           537925  1001009  2019/09/06 07:00:00+00  2019/09/06 07:15:00+00   \n",
       "...            ...      ...                     ...                     ...   \n",
       "16267954   2012318  1002036  2019/05/31 23:45:00+00  2019/06/01 00:00:00+00   \n",
       "16267955   2012319  1001931  2019/05/31 23:45:00+00  2019/06/01 00:00:00+00   \n",
       "16267956   2012320  1002030  2019/05/31 23:45:00+00  2019/06/01 00:00:00+00   \n",
       "16267957   2012321  1001940  2019/05/31 23:45:00+00  2019/06/01 00:00:00+00   \n",
       "16267958   2012322  1002041  2019/05/31 23:45:00+00  2019/06/01 00:00:00+00   \n",
       "\n",
       "          HORA  DISTANCE  TYPE  VEL_PROMEDIO DIA_SEMANA        MES  NAME_FROM  \\\n",
       "0            7      1068     1     29.920095    Viernes  September       CL24   \n",
       "1            7      1396     1     44.768136    Viernes  September       CL26   \n",
       "2            7      1458     1     16.267973    Viernes  September      CL116   \n",
       "3            7       506     1     52.683532    Viernes  September       CL26   \n",
       "4            7       732     1      9.281605    Viernes  September       CL63   \n",
       "...        ...       ...   ...           ...        ...        ...        ...   \n",
       "16267954    23      1366     1     52.092345    Viernes  May             CL26   \n",
       "16267955    23      1399     1     10.503962    Viernes  May        KR24,TV24   \n",
       "16267956    23      1212     1     47.719449    Viernes  May          AV.SUBA   \n",
       "16267957    23       947     1     33.260065    Viernes  May          CL43SUR   \n",
       "16267958    23      1411     1     56.366585    Viernes  May             CL26   \n",
       "\n",
       "                   NAME_TO  \n",
       "0               KR68B;KR60  \n",
       "1           KR66A;AV.ROJAS  \n",
       "2                KR15;KR11  \n",
       "3          GOBERNACION;CAN  \n",
       "4               KR77A;KR72  \n",
       "...                    ...  \n",
       "16267954  GOBERNACION;KR40  \n",
       "16267955         CL45;CL57  \n",
       "16267956  21.ANGELES;CL136  \n",
       "16267957         KR86;KR80  \n",
       "16267958    AV.ROJAS;KR66A  \n",
       "\n",
       "[16267959 rows x 12 columns]"
      ]
     },
     "execution_count": 13,
     "metadata": {},
     "output_type": "execute_result"
    }
   ],
   "source": [
    "mov_df"
   ]
  },
  {
   "cell_type": "markdown",
   "metadata": {},
   "source": [
    "## Análisis Multidimensional de las Variables"
   ]
  },
  {
   "cell_type": "markdown",
   "metadata": {},
   "source": [
    "Velocidad promedio versus la trayectoria realizada.\n",
    "\n",
    "La trayectoria se va a definir como la concatenación entre NAME_FROM y NAME_TO."
   ]
  },
  {
   "cell_type": "code",
   "execution_count": 14,
   "metadata": {},
   "outputs": [],
   "source": [
    "mov_df['TRAYEC'] = mov_df['NAME_FROM'] + ' - ' +mov_df['NAME_TO']"
   ]
  },
  {
   "cell_type": "code",
   "execution_count": 15,
   "metadata": {},
   "outputs": [
    {
     "data": {
      "text/plain": [
       "AV.AMERICAS - KR74;KR80       45019\n",
       "KR6 - AV.P.MAYO;CL10ASUR      44467\n",
       "CL1,KR27 - KR25;AV.P.MAYO     44281\n",
       "AV.CORDOBA - CL127;AV.SUBA    44185\n",
       "KR27,CL1 - AV.P.MAYO;KR25     44156\n",
       "                              ...  \n",
       "KR15 - CL116;CL106              110\n",
       "KR15 - CL116;CL127               96\n",
       "KR15 - CL106;CL116               78\n",
       "KR86 - TV79D;KR91                61\n",
       "KR15 - CL127;CL100               25\n",
       "Name: TRAYEC, Length: 844, dtype: int64"
      ]
     },
     "execution_count": 15,
     "metadata": {},
     "output_type": "execute_result"
    }
   ],
   "source": [
    "mov_df['TRAYEC'].value_counts()"
   ]
  },
  {
   "cell_type": "markdown",
   "metadata": {},
   "source": [
    "Mediana de la velocidad promedio en cada trayecto. VEL_PROMEDIO que es más común en cada trayecto:"
   ]
  },
  {
   "cell_type": "code",
   "execution_count": 16,
   "metadata": {},
   "outputs": [
    {
     "data": {
      "text/plain": [
       "TRAYEC\n",
       "AUTONORTE - ALCALA;CL146               48.308184\n",
       "AUTONORTE - ALCALA;PRADO               53.062327\n",
       "AUTONORTE - CARDIO.INFANTIL;CL146      53.737773\n",
       "AUTONORTE - CARDIO.INFANTIL;TOBERIN    45.189466\n",
       "AUTONORTE - CL100;PEPE.SIERRA          43.616572\n",
       "                                         ...    \n",
       "TV42 - CL6;CL2C                        29.159781\n",
       "TV42,KR50 - CL6;CL33SUR                26.385499\n",
       "TV80A - AV.AMERICAS;KR80               16.283529\n",
       "TV85,CL64BBIS - CL63;KR86              19.004073\n",
       "TV85,CL65BIS,KR85J - CL63;KR86         15.594021\n",
       "Name: VEL_PROMEDIO, Length: 844, dtype: float64"
      ]
     },
     "execution_count": 16,
     "metadata": {},
     "output_type": "execute_result"
    }
   ],
   "source": [
    "medianVel_Tray = mov_df.groupby('TRAYEC').median()['VEL_PROMEDIO']\n",
    "medianVel_Tray"
   ]
  },
  {
   "cell_type": "markdown",
   "metadata": {},
   "source": [
    "## Análisis de Texto"
   ]
  },
  {
   "cell_type": "code",
   "execution_count": 17,
   "metadata": {
    "scrolled": true
   },
   "outputs": [
    {
     "name": "stdout",
     "output_type": "stream",
     "text": [
      "['de', 'la', 'que', 'el', 'en', 'y', 'a', 'los', 'del', 'se', 'las', 'por', 'un', 'para', 'con', 'no', 'una', 'su', 'al', 'lo', 'como', 'más', 'pero', 'sus', 'le', 'ya', 'o', 'este', 'sí', 'porque', 'esta', 'entre', 'cuando', 'muy', 'sin', 'sobre', 'también', 'me', 'hasta', 'hay', 'donde', 'quien', 'desde', 'todo', 'nos', 'durante', 'todos', 'uno', 'les', 'ni', 'contra', 'otros', 'ese', 'eso', 'ante', 'ellos', 'e', 'esto', 'mí', 'antes', 'algunos', 'qué', 'unos', 'yo', 'otro', 'otras', 'otra', 'él', 'tanto', 'esa', 'estos', 'mucho', 'quienes', 'nada', 'muchos', 'cual', 'poco', 'ella', 'estar', 'estas', 'algunas', 'algo', 'nosotros', 'mi', 'mis', 'tú', 'te', 'ti', 'tu', 'tus', 'ellas', 'nosotras', 'vosotros', 'vosotras', 'os', 'mío', 'mía', 'míos', 'mías', 'tuyo', 'tuya', 'tuyos', 'tuyas', 'suyo', 'suya', 'suyos', 'suyas', 'nuestro', 'nuestra', 'nuestros', 'nuestras', 'vuestro', 'vuestra', 'vuestros', 'vuestras', 'esos', 'esas', 'estoy', 'estás', 'está', 'estamos', 'estáis', 'están', 'esté', 'estés', 'estemos', 'estéis', 'estén', 'estaré', 'estarás', 'estará', 'estaremos', 'estaréis', 'estarán', 'estaría', 'estarías', 'estaríamos', 'estaríais', 'estarían', 'estaba', 'estabas', 'estábamos', 'estabais', 'estaban', 'estuve', 'estuviste', 'estuvo', 'estuvimos', 'estuvisteis', 'estuvieron', 'estuviera', 'estuvieras', 'estuviéramos', 'estuvierais', 'estuvieran', 'estuviese', 'estuvieses', 'estuviésemos', 'estuvieseis', 'estuviesen', 'estando', 'estado', 'estada', 'estados', 'estadas', 'estad', 'he', 'has', 'ha', 'hemos', 'habéis', 'han', 'haya', 'hayas', 'hayamos', 'hayáis', 'hayan', 'habré', 'habrás', 'habrá', 'habremos', 'habréis', 'habrán', 'habría', 'habrías', 'habríamos', 'habríais', 'habrían', 'había', 'habías', 'habíamos', 'habíais', 'habían', 'hube', 'hubiste', 'hubo', 'hubimos', 'hubisteis', 'hubieron', 'hubiera', 'hubieras', 'hubiéramos', 'hubierais', 'hubieran', 'hubiese', 'hubieses', 'hubiésemos', 'hubieseis', 'hubiesen', 'habiendo', 'habido', 'habida', 'habidos', 'habidas', 'soy', 'eres', 'es', 'somos', 'sois', 'son', 'sea', 'seas', 'seamos', 'seáis', 'sean', 'seré', 'serás', 'será', 'seremos', 'seréis', 'serán', 'sería', 'serías', 'seríamos', 'seríais', 'serían', 'era', 'eras', 'éramos', 'erais', 'eran', 'fui', 'fuiste', 'fue', 'fuimos', 'fuisteis', 'fueron', 'fuera', 'fueras', 'fuéramos', 'fuerais', 'fueran', 'fuese', 'fueses', 'fuésemos', 'fueseis', 'fuesen', 'sintiendo', 'sentido', 'sentida', 'sentidos', 'sentidas', 'siente', 'sentid', 'tengo', 'tienes', 'tiene', 'tenemos', 'tenéis', 'tienen', 'tenga', 'tengas', 'tengamos', 'tengáis', 'tengan', 'tendré', 'tendrás', 'tendrá', 'tendremos', 'tendréis', 'tendrán', 'tendría', 'tendrías', 'tendríamos', 'tendríais', 'tendrían', 'tenía', 'tenías', 'teníamos', 'teníais', 'tenían', 'tuve', 'tuviste', 'tuvo', 'tuvimos', 'tuvisteis', 'tuvieron', 'tuviera', 'tuvieras', 'tuviéramos', 'tuvierais', 'tuvieran', 'tuviese', 'tuvieses', 'tuviésemos', 'tuvieseis', 'tuviesen', 'teniendo', 'tenido', 'tenida', 'tenidos', 'tenidas', 'tened']\n"
     ]
    }
   ],
   "source": [
    "import nltk\n",
    "from nltk.corpus import stopwords\n",
    "print(stopwords.words('spanish'))"
   ]
  },
  {
   "cell_type": "code",
   "execution_count": 18,
   "metadata": {
    "scrolled": false
   },
   "outputs": [
    {
     "data": {
      "text/plain": [
       "Index(['AV.CARACAS;KR7', 'KR7;KR11', 'KR11;KR7', 'KR15;KR11', 'KR7;AV.CARACAS',\n",
       "       'KR11;KR15', 'KR15;KR19', 'KR19;KR15', 'KR10;AV.CARACAS',\n",
       "       'AV.CARACAS;KR10'],\n",
       "      dtype='object')"
      ]
     },
     "execution_count": 18,
     "metadata": {},
     "output_type": "execute_result"
    }
   ],
   "source": [
    "list_lite_NAME_TO = mov_df['NAME_TO'].value_counts().sort_values(ascending=False).index[0:10]\n",
    "list_lite_NAME_TO"
   ]
  },
  {
   "cell_type": "code",
   "execution_count": 19,
   "metadata": {},
   "outputs": [
    {
     "data": {
      "text/html": [
       "<div>\n",
       "<style scoped>\n",
       "    .dataframe tbody tr th:only-of-type {\n",
       "        vertical-align: middle;\n",
       "    }\n",
       "\n",
       "    .dataframe tbody tr th {\n",
       "        vertical-align: top;\n",
       "    }\n",
       "\n",
       "    .dataframe thead th {\n",
       "        text-align: right;\n",
       "    }\n",
       "</style>\n",
       "<table border=\"1\" class=\"dataframe\">\n",
       "  <thead>\n",
       "    <tr style=\"text-align: right;\">\n",
       "      <th></th>\n",
       "      <th>OBJECTID</th>\n",
       "      <th>TID</th>\n",
       "      <th>INICIO</th>\n",
       "      <th>FIN</th>\n",
       "      <th>HORA</th>\n",
       "      <th>DISTANCE</th>\n",
       "      <th>TYPE</th>\n",
       "      <th>VEL_PROMEDIO</th>\n",
       "      <th>DIA_SEMANA</th>\n",
       "      <th>MES</th>\n",
       "      <th>NAME_FROM</th>\n",
       "      <th>NAME_TO</th>\n",
       "      <th>TRAYEC</th>\n",
       "    </tr>\n",
       "  </thead>\n",
       "  <tbody>\n",
       "    <tr>\n",
       "      <th>2</th>\n",
       "      <td>537923</td>\n",
       "      <td>1000051</td>\n",
       "      <td>2019/09/06 07:00:00+00</td>\n",
       "      <td>2019/09/06 07:15:00+00</td>\n",
       "      <td>7</td>\n",
       "      <td>1458</td>\n",
       "      <td>1</td>\n",
       "      <td>16.267973</td>\n",
       "      <td>Viernes</td>\n",
       "      <td>September</td>\n",
       "      <td>CL116</td>\n",
       "      <td>KR15;KR11</td>\n",
       "      <td>CL116 - KR15;KR11</td>\n",
       "    </tr>\n",
       "    <tr>\n",
       "      <th>18</th>\n",
       "      <td>537939</td>\n",
       "      <td>1000069</td>\n",
       "      <td>2019/09/06 07:00:00+00</td>\n",
       "      <td>2019/09/06 07:15:00+00</td>\n",
       "      <td>7</td>\n",
       "      <td>526</td>\n",
       "      <td>1</td>\n",
       "      <td>30.151908</td>\n",
       "      <td>Viernes</td>\n",
       "      <td>September</td>\n",
       "      <td>CL92</td>\n",
       "      <td>KR11;KR15</td>\n",
       "      <td>CL92 - KR11;KR15</td>\n",
       "    </tr>\n",
       "    <tr>\n",
       "      <th>26</th>\n",
       "      <td>537947</td>\n",
       "      <td>1000067</td>\n",
       "      <td>2019/09/06 07:00:00+00</td>\n",
       "      <td>2019/09/06 07:15:00+00</td>\n",
       "      <td>7</td>\n",
       "      <td>527</td>\n",
       "      <td>1</td>\n",
       "      <td>25.910706</td>\n",
       "      <td>Viernes</td>\n",
       "      <td>September</td>\n",
       "      <td>CL94</td>\n",
       "      <td>KR11;KR15</td>\n",
       "      <td>CL94 - KR11;KR15</td>\n",
       "    </tr>\n",
       "    <tr>\n",
       "      <th>30</th>\n",
       "      <td>537951</td>\n",
       "      <td>1000029</td>\n",
       "      <td>2019/09/06 07:00:00+00</td>\n",
       "      <td>2019/09/06 07:15:00+00</td>\n",
       "      <td>7</td>\n",
       "      <td>455</td>\n",
       "      <td>1</td>\n",
       "      <td>20.228330</td>\n",
       "      <td>Viernes</td>\n",
       "      <td>September</td>\n",
       "      <td>CL72</td>\n",
       "      <td>KR7;KR11</td>\n",
       "      <td>CL72 - KR7;KR11</td>\n",
       "    </tr>\n",
       "    <tr>\n",
       "      <th>34</th>\n",
       "      <td>537955</td>\n",
       "      <td>1000068</td>\n",
       "      <td>2019/09/06 07:00:00+00</td>\n",
       "      <td>2019/09/06 07:15:00+00</td>\n",
       "      <td>7</td>\n",
       "      <td>528</td>\n",
       "      <td>1</td>\n",
       "      <td>8.352791</td>\n",
       "      <td>Viernes</td>\n",
       "      <td>September</td>\n",
       "      <td>CL94</td>\n",
       "      <td>KR15;KR11</td>\n",
       "      <td>CL94 - KR15;KR11</td>\n",
       "    </tr>\n",
       "    <tr>\n",
       "      <th>...</th>\n",
       "      <td>...</td>\n",
       "      <td>...</td>\n",
       "      <td>...</td>\n",
       "      <td>...</td>\n",
       "      <td>...</td>\n",
       "      <td>...</td>\n",
       "      <td>...</td>\n",
       "      <td>...</td>\n",
       "      <td>...</td>\n",
       "      <td>...</td>\n",
       "      <td>...</td>\n",
       "      <td>...</td>\n",
       "      <td>...</td>\n",
       "    </tr>\n",
       "    <tr>\n",
       "      <th>16267728</th>\n",
       "      <td>2012092</td>\n",
       "      <td>1000334</td>\n",
       "      <td>2019/05/31 23:45:00+00</td>\n",
       "      <td>2019/06/01 00:00:00+00</td>\n",
       "      <td>23</td>\n",
       "      <td>625</td>\n",
       "      <td>1</td>\n",
       "      <td>24.662911</td>\n",
       "      <td>Viernes</td>\n",
       "      <td>May</td>\n",
       "      <td>CL11SUR</td>\n",
       "      <td>KR10;AV.CARACAS</td>\n",
       "      <td>CL11SUR - KR10;AV.CARACAS</td>\n",
       "    </tr>\n",
       "    <tr>\n",
       "      <th>16267780</th>\n",
       "      <td>2012144</td>\n",
       "      <td>1000668</td>\n",
       "      <td>2019/05/31 23:45:00+00</td>\n",
       "      <td>2019/06/01 00:00:00+00</td>\n",
       "      <td>23</td>\n",
       "      <td>1027</td>\n",
       "      <td>1</td>\n",
       "      <td>26.556696</td>\n",
       "      <td>Viernes</td>\n",
       "      <td>May</td>\n",
       "      <td>AV.P.MAYO</td>\n",
       "      <td>KR10;AV.CARACAS</td>\n",
       "      <td>AV.P.MAYO - KR10;AV.CARACAS</td>\n",
       "    </tr>\n",
       "    <tr>\n",
       "      <th>16267804</th>\n",
       "      <td>2012168</td>\n",
       "      <td>1000667</td>\n",
       "      <td>2019/05/31 23:45:00+00</td>\n",
       "      <td>2019/06/01 00:00:00+00</td>\n",
       "      <td>23</td>\n",
       "      <td>1032</td>\n",
       "      <td>1</td>\n",
       "      <td>32.838606</td>\n",
       "      <td>Viernes</td>\n",
       "      <td>May</td>\n",
       "      <td>AV.P.MAYO</td>\n",
       "      <td>AV.CARACAS;KR10</td>\n",
       "      <td>AV.P.MAYO - AV.CARACAS;KR10</td>\n",
       "    </tr>\n",
       "    <tr>\n",
       "      <th>16267865</th>\n",
       "      <td>2012229</td>\n",
       "      <td>1001954</td>\n",
       "      <td>2019/05/31 23:45:00+00</td>\n",
       "      <td>2019/06/01 00:00:00+00</td>\n",
       "      <td>23</td>\n",
       "      <td>449</td>\n",
       "      <td>1</td>\n",
       "      <td>26.961462</td>\n",
       "      <td>Viernes</td>\n",
       "      <td>May</td>\n",
       "      <td>CL100</td>\n",
       "      <td>KR15;KR19</td>\n",
       "      <td>CL100 - KR15;KR19</td>\n",
       "    </tr>\n",
       "    <tr>\n",
       "      <th>16267891</th>\n",
       "      <td>2012255</td>\n",
       "      <td>1001953</td>\n",
       "      <td>2019/05/31 23:45:00+00</td>\n",
       "      <td>2019/06/01 00:00:00+00</td>\n",
       "      <td>23</td>\n",
       "      <td>573</td>\n",
       "      <td>1</td>\n",
       "      <td>32.229569</td>\n",
       "      <td>Viernes</td>\n",
       "      <td>May</td>\n",
       "      <td>CL100</td>\n",
       "      <td>KR15;KR11</td>\n",
       "      <td>CL100 - KR15;KR11</td>\n",
       "    </tr>\n",
       "  </tbody>\n",
       "</table>\n",
       "<p>1083923 rows × 13 columns</p>\n",
       "</div>"
      ],
      "text/plain": [
       "          OBJECTID      TID                  INICIO                     FIN  \\\n",
       "2           537923  1000051  2019/09/06 07:00:00+00  2019/09/06 07:15:00+00   \n",
       "18          537939  1000069  2019/09/06 07:00:00+00  2019/09/06 07:15:00+00   \n",
       "26          537947  1000067  2019/09/06 07:00:00+00  2019/09/06 07:15:00+00   \n",
       "30          537951  1000029  2019/09/06 07:00:00+00  2019/09/06 07:15:00+00   \n",
       "34          537955  1000068  2019/09/06 07:00:00+00  2019/09/06 07:15:00+00   \n",
       "...            ...      ...                     ...                     ...   \n",
       "16267728   2012092  1000334  2019/05/31 23:45:00+00  2019/06/01 00:00:00+00   \n",
       "16267780   2012144  1000668  2019/05/31 23:45:00+00  2019/06/01 00:00:00+00   \n",
       "16267804   2012168  1000667  2019/05/31 23:45:00+00  2019/06/01 00:00:00+00   \n",
       "16267865   2012229  1001954  2019/05/31 23:45:00+00  2019/06/01 00:00:00+00   \n",
       "16267891   2012255  1001953  2019/05/31 23:45:00+00  2019/06/01 00:00:00+00   \n",
       "\n",
       "          HORA  DISTANCE  TYPE  VEL_PROMEDIO DIA_SEMANA        MES  NAME_FROM  \\\n",
       "2            7      1458     1     16.267973    Viernes  September      CL116   \n",
       "18           7       526     1     30.151908    Viernes  September       CL92   \n",
       "26           7       527     1     25.910706    Viernes  September       CL94   \n",
       "30           7       455     1     20.228330    Viernes  September       CL72   \n",
       "34           7       528     1      8.352791    Viernes  September       CL94   \n",
       "...        ...       ...   ...           ...        ...        ...        ...   \n",
       "16267728    23       625     1     24.662911    Viernes  May          CL11SUR   \n",
       "16267780    23      1027     1     26.556696    Viernes  May        AV.P.MAYO   \n",
       "16267804    23      1032     1     32.838606    Viernes  May        AV.P.MAYO   \n",
       "16267865    23       449     1     26.961462    Viernes  May            CL100   \n",
       "16267891    23       573     1     32.229569    Viernes  May            CL100   \n",
       "\n",
       "                  NAME_TO                       TRAYEC  \n",
       "2               KR15;KR11            CL116 - KR15;KR11  \n",
       "18              KR11;KR15             CL92 - KR11;KR15  \n",
       "26              KR11;KR15             CL94 - KR11;KR15  \n",
       "30               KR7;KR11              CL72 - KR7;KR11  \n",
       "34              KR15;KR11             CL94 - KR15;KR11  \n",
       "...                   ...                          ...  \n",
       "16267728  KR10;AV.CARACAS    CL11SUR - KR10;AV.CARACAS  \n",
       "16267780  KR10;AV.CARACAS  AV.P.MAYO - KR10;AV.CARACAS  \n",
       "16267804  AV.CARACAS;KR10  AV.P.MAYO - AV.CARACAS;KR10  \n",
       "16267865        KR15;KR19            CL100 - KR15;KR19  \n",
       "16267891        KR15;KR11            CL100 - KR15;KR11  \n",
       "\n",
       "[1083923 rows x 13 columns]"
      ]
     },
     "execution_count": 19,
     "metadata": {},
     "output_type": "execute_result"
    }
   ],
   "source": [
    "mov_df_filter_lite_NAME_TO = mov_df[mov_df['NAME_TO'].isin(list_lite_NAME_TO)]\n",
    "mov_df_filter_lite_NAME_TO"
   ]
  },
  {
   "cell_type": "code",
   "execution_count": 20,
   "metadata": {},
   "outputs": [],
   "source": [
    "textos_destino = ''\n",
    "for row in mov_df_filter_lite_NAME_TO['NAME_TO']:\n",
    "    textos_destino = textos_destino + ' ' + row"
   ]
  },
  {
   "cell_type": "code",
   "execution_count": 23,
   "metadata": {},
   "outputs": [
    {
     "name": "stdout",
     "output_type": "stream",
     "text": [
      "/home/ivan/anaconda3/bin/python\n"
     ]
    }
   ],
   "source": [
    "## to check the ModuleNotFoundError: No module named 'wordcloud'\n",
    "## install:\n",
    "## /anaconda3/bin/python -m pip install wordcloud\n",
    "import sys\n",
    "print(sys.executable)"
   ]
  },
  {
   "cell_type": "code",
   "execution_count": 24,
   "metadata": {},
   "outputs": [],
   "source": [
    "from wordcloud import WordCloud\n",
    "import matplotlib.pyplot as plt"
   ]
  },
  {
   "cell_type": "code",
   "execution_count": 25,
   "metadata": {},
   "outputs": [
    {
     "data": {
      "image/png": "[encoded data removed]",
      "text/plain": [
       "<Figure size 432x288 with 1 Axes>"
      ]
     },
     "metadata": {
      "needs_background": "light"
     },
     "output_type": "display_data"
    }
   ],
   "source": [
    "wc = WordCloud(background_color= 'white')\n",
    "wc.generate(textos_destino)\n",
    "\n",
    "plt.axis(\"off\")\n",
    "plt.imshow(wc, interpolation='bilinear')\n",
    "plt.show()"
   ]
  },
  {
   "cell_type": "code",
   "execution_count": null,
   "metadata": {},
   "outputs": [],
   "source": []
  }
 ],
 "metadata": {
  "kernelspec": {
   "display_name": "Python 3 (ipykernel)",
   "language": "python",
   "name": "python3"
  },
  "language_info": {
   "codemirror_mode": {
    "name": "ipython",
    "version": 3
   },
   "file_extension": ".py",
   "mimetype": "text/x-python",
   "name": "python",
   "nbconvert_exporter": "python",
   "pygments_lexer": "ipython3",
   "version": "3.7.6"
  }
 },
 "nbformat": 4,
 "nbformat_minor": 4
}
